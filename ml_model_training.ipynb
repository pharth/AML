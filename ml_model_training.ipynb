{
 "cells": [
  {
   "cell_type": "markdown",
   "id": "fd80fff1",
   "metadata": {
    "papermill": {
     "duration": 0.011722,
     "end_time": "2024-05-17T15:21:44.170387",
     "exception": false,
     "start_time": "2024-05-17T15:21:44.158665",
     "status": "completed"
    },
    "tags": []
   },
   "source": [
    "## Import Libraries"
   ]
  },
  {
   "cell_type": "code",
   "execution_count": 1,
   "id": "237bebd5",
   "metadata": {
    "execution": {
     "iopub.execute_input": "2024-05-17T15:21:44.194939Z",
     "iopub.status.busy": "2024-05-17T15:21:44.194573Z",
     "iopub.status.idle": "2024-05-17T15:21:47.588150Z",
     "shell.execute_reply": "2024-05-17T15:21:47.586683Z"
    },
    "papermill": {
     "duration": 3.408986,
     "end_time": "2024-05-17T15:21:47.590675",
     "exception": false,
     "start_time": "2024-05-17T15:21:44.181689",
     "status": "completed"
    },
    "tags": []
   },
   "outputs": [],
   "source": [
    "import pandas as pd\n",
    "import numpy as np\n",
    "import matplotlib.pyplot as plt\n",
    "import seaborn as sns\n",
    "%matplotlib inline\n",
    "\n",
    "import warnings\n",
    "warnings.filterwarnings(\"ignore\")\n",
    "\n",
    "from sklearn.pipeline import Pipeline\n",
    "from sklearn.impute import SimpleImputer\n",
    "from sklearn.preprocessing import RobustScaler, OrdinalEncoder\n",
    "from sklearn.compose import ColumnTransformer\n",
    "from sklearn.model_selection import GridSearchCV\n",
    "\n",
    "from sklearn.model_selection import train_test_split\n",
    "\n",
    "from sklearn.metrics import accuracy_score, f1_score, precision_score, recall_score, confusion_matrix, roc_auc_score, roc_curve\n",
    "from xgboost import XGBClassifier\n",
    "from sklearn.ensemble import RandomForestClassifier\n",
    "from sklearn.ensemble import ExtraTreesClassifier\n",
    "\n",
    "from sklearn.metrics import classification_report, confusion_matrix\n",
    "from imblearn.over_sampling import SMOTE\n",
    "from collections import Counter\n",
    "\n",
    "\n"
   ]
  },
  {
   "cell_type": "code",
   "execution_count": 2,
   "id": "10c278e5",
   "metadata": {
    "execution": {
     "iopub.execute_input": "2024-05-17T15:21:47.620358Z",
     "iopub.status.busy": "2024-05-17T15:21:47.619758Z",
     "iopub.status.idle": "2024-05-17T15:21:47.624528Z",
     "shell.execute_reply": "2024-05-17T15:21:47.623380Z"
    },
    "papermill": {
     "duration": 0.019765,
     "end_time": "2024-05-17T15:21:47.626625",
     "exception": false,
     "start_time": "2024-05-17T15:21:47.606860",
     "status": "completed"
    },
    "tags": []
   },
   "outputs": [],
   "source": [
    "data_path = r\"C:\\Programming\\AML\\Data\\HI-Medium_Trans.csv\\HI-Medium_Trans.csv\""
   ]
  },
  {
   "cell_type": "markdown",
   "id": "4e37e122",
   "metadata": {
    "papermill": {
     "duration": 0.010873,
     "end_time": "2024-05-17T15:21:47.649813",
     "exception": false,
     "start_time": "2024-05-17T15:21:47.638940",
     "status": "completed"
    },
    "tags": []
   },
   "source": [
    "## Load the raw data"
   ]
  },
  {
   "cell_type": "code",
   "execution_count": 3,
   "id": "2d147d03",
   "metadata": {},
   "outputs": [],
   "source": [
    "columns_to_keep = [\n",
    "    \"From Bank\",             \n",
    "    \"Account\",               \n",
    "    \"To Bank\",               \n",
    "    \"Account.1\",             \n",
    "    \"Amount Received\",       \n",
    "    \"Receiving Currency\",    \n",
    "    \"Payment Format\",\n",
    "    \"Is Laundering\"\n",
    "]\n",
    "\n",
    "# Read only necessary columns and first 10000 rows\n",
    "df = pd.read_csv(data_path, usecols=columns_to_keep, nrows=500000)"
   ]
  },
  {
   "cell_type": "code",
   "execution_count": 4,
   "id": "a1901b99",
   "metadata": {
    "execution": {
     "iopub.execute_input": "2024-05-17T15:22:05.130127Z",
     "iopub.status.busy": "2024-05-17T15:22:05.129686Z",
     "iopub.status.idle": "2024-05-17T15:22:05.530727Z",
     "shell.execute_reply": "2024-05-17T15:22:05.529224Z"
    },
    "papermill": {
     "duration": 0.41785,
     "end_time": "2024-05-17T15:22:05.533700",
     "exception": false,
     "start_time": "2024-05-17T15:22:05.115850",
     "status": "completed"
    },
    "tags": []
   },
   "outputs": [
    {
     "data": {
      "text/plain": [
       "(500000, 8)"
      ]
     },
     "execution_count": 4,
     "metadata": {},
     "output_type": "execute_result"
    }
   ],
   "source": [
    "\n",
    "\n",
    "df.shape"
   ]
  },
  {
   "cell_type": "code",
   "execution_count": 5,
   "id": "2d306f0e",
   "metadata": {
    "execution": {
     "iopub.execute_input": "2024-05-17T15:22:05.560243Z",
     "iopub.status.busy": "2024-05-17T15:22:05.559805Z",
     "iopub.status.idle": "2024-05-17T15:22:05.568059Z",
     "shell.execute_reply": "2024-05-17T15:22:05.567180Z"
    },
    "papermill": {
     "duration": 0.024351,
     "end_time": "2024-05-17T15:22:05.570073",
     "exception": false,
     "start_time": "2024-05-17T15:22:05.545722",
     "status": "completed"
    },
    "tags": []
   },
   "outputs": [
    {
     "data": {
      "text/plain": [
       "Index(['From Bank', 'Account', 'To Bank', 'Account.1', 'Amount Received',\n",
       "       'Receiving Currency', 'Payment Format', 'Is Laundering'],\n",
       "      dtype='object')"
      ]
     },
     "execution_count": 5,
     "metadata": {},
     "output_type": "execute_result"
    }
   ],
   "source": [
    "\n",
    "df.columns"
   ]
  },
  {
   "cell_type": "code",
   "execution_count": 6,
   "id": "29cc9901",
   "metadata": {
    "execution": {
     "iopub.execute_input": "2024-05-17T15:22:05.596618Z",
     "iopub.status.busy": "2024-05-17T15:22:05.595819Z",
     "iopub.status.idle": "2024-05-17T15:22:05.622753Z",
     "shell.execute_reply": "2024-05-17T15:22:05.621899Z"
    },
    "papermill": {
     "duration": 0.042651,
     "end_time": "2024-05-17T15:22:05.624797",
     "exception": false,
     "start_time": "2024-05-17T15:22:05.582146",
     "status": "completed"
    },
    "tags": []
   },
   "outputs": [
    {
     "data": {
      "text/html": [
       "<div>\n",
       "<style scoped>\n",
       "    .dataframe tbody tr th:only-of-type {\n",
       "        vertical-align: middle;\n",
       "    }\n",
       "\n",
       "    .dataframe tbody tr th {\n",
       "        vertical-align: top;\n",
       "    }\n",
       "\n",
       "    .dataframe thead th {\n",
       "        text-align: right;\n",
       "    }\n",
       "</style>\n",
       "<table border=\"1\" class=\"dataframe\">\n",
       "  <thead>\n",
       "    <tr style=\"text-align: right;\">\n",
       "      <th></th>\n",
       "      <th>From Bank</th>\n",
       "      <th>Account</th>\n",
       "      <th>To Bank</th>\n",
       "      <th>Account.1</th>\n",
       "      <th>Amount Received</th>\n",
       "      <th>Receiving Currency</th>\n",
       "      <th>Payment Format</th>\n",
       "      <th>Is Laundering</th>\n",
       "    </tr>\n",
       "  </thead>\n",
       "  <tbody>\n",
       "    <tr>\n",
       "      <th>0</th>\n",
       "      <td>20</td>\n",
       "      <td>800104D70</td>\n",
       "      <td>20</td>\n",
       "      <td>800104D70</td>\n",
       "      <td>6794.63</td>\n",
       "      <td>US Dollar</td>\n",
       "      <td>Reinvestment</td>\n",
       "      <td>0</td>\n",
       "    </tr>\n",
       "    <tr>\n",
       "      <th>1</th>\n",
       "      <td>3196</td>\n",
       "      <td>800107150</td>\n",
       "      <td>3196</td>\n",
       "      <td>800107150</td>\n",
       "      <td>7739.29</td>\n",
       "      <td>US Dollar</td>\n",
       "      <td>Reinvestment</td>\n",
       "      <td>0</td>\n",
       "    </tr>\n",
       "    <tr>\n",
       "      <th>2</th>\n",
       "      <td>1208</td>\n",
       "      <td>80010E430</td>\n",
       "      <td>1208</td>\n",
       "      <td>80010E430</td>\n",
       "      <td>1880.23</td>\n",
       "      <td>US Dollar</td>\n",
       "      <td>Reinvestment</td>\n",
       "      <td>0</td>\n",
       "    </tr>\n",
       "  </tbody>\n",
       "</table>\n",
       "</div>"
      ],
      "text/plain": [
       "   From Bank    Account  To Bank  Account.1  Amount Received  \\\n",
       "0         20  800104D70       20  800104D70          6794.63   \n",
       "1       3196  800107150     3196  800107150          7739.29   \n",
       "2       1208  80010E430     1208  80010E430          1880.23   \n",
       "\n",
       "  Receiving Currency Payment Format  Is Laundering  \n",
       "0          US Dollar   Reinvestment              0  \n",
       "1          US Dollar   Reinvestment              0  \n",
       "2          US Dollar   Reinvestment              0  "
      ]
     },
     "execution_count": 6,
     "metadata": {},
     "output_type": "execute_result"
    }
   ],
   "source": [
    "df.head(3)"
   ]
  },
  {
   "cell_type": "code",
   "execution_count": 7,
   "id": "7824ee29",
   "metadata": {
    "execution": {
     "iopub.execute_input": "2024-05-17T15:22:05.651594Z",
     "iopub.status.busy": "2024-05-17T15:22:05.651084Z",
     "iopub.status.idle": "2024-05-17T15:22:05.709854Z",
     "shell.execute_reply": "2024-05-17T15:22:05.708139Z"
    },
    "papermill": {
     "duration": 0.075396,
     "end_time": "2024-05-17T15:22:05.712456",
     "exception": false,
     "start_time": "2024-05-17T15:22:05.637060",
     "status": "completed"
    },
    "tags": []
   },
   "outputs": [
    {
     "name": "stdout",
     "output_type": "stream",
     "text": [
      "<class 'pandas.core.frame.DataFrame'>\n",
      "RangeIndex: 500000 entries, 0 to 499999\n",
      "Data columns (total 8 columns):\n",
      " #   Column              Non-Null Count   Dtype  \n",
      "---  ------              --------------   -----  \n",
      " 0   From Bank           500000 non-null  int64  \n",
      " 1   Account             500000 non-null  object \n",
      " 2   To Bank             500000 non-null  int64  \n",
      " 3   Account.1           500000 non-null  object \n",
      " 4   Amount Received     500000 non-null  float64\n",
      " 5   Receiving Currency  500000 non-null  object \n",
      " 6   Payment Format      500000 non-null  object \n",
      " 7   Is Laundering       500000 non-null  int64  \n",
      "dtypes: float64(1), int64(3), object(4)\n",
      "memory usage: 30.5+ MB\n"
     ]
    }
   ],
   "source": [
    "df.info()"
   ]
  },
  {
   "cell_type": "code",
   "execution_count": 8,
   "id": "af4e950e",
   "metadata": {},
   "outputs": [
    {
     "name": "stdout",
     "output_type": "stream",
     "text": [
      "['From Bank', 'Account', 'To Bank', 'Account.1', 'Amount Received', 'Receiving Currency', 'Payment Format', 'Is Laundering']\n"
     ]
    }
   ],
   "source": [
    "print(df.columns.tolist())\n"
   ]
  },
  {
   "cell_type": "code",
   "execution_count": 8,
   "id": "eb7bf42b",
   "metadata": {
    "execution": {
     "iopub.execute_input": "2024-05-17T15:22:05.738827Z",
     "iopub.status.busy": "2024-05-17T15:22:05.738366Z",
     "iopub.status.idle": "2024-05-17T15:22:05.750769Z",
     "shell.execute_reply": "2024-05-17T15:22:05.749632Z"
    },
    "papermill": {
     "duration": 0.02837,
     "end_time": "2024-05-17T15:22:05.752986",
     "exception": false,
     "start_time": "2024-05-17T15:22:05.724616",
     "status": "completed"
    },
    "tags": []
   },
   "outputs": [
    {
     "data": {
      "text/plain": [
       "From Bank\n",
       "70        4352\n",
       "12         794\n",
       "10         789\n",
       "1          585\n",
       "15         548\n",
       "          ... \n",
       "35764        1\n",
       "315832       1\n",
       "321151       1\n",
       "324818       1\n",
       "335948       1\n",
       "Name: count, Length: 3429, dtype: int64"
      ]
     },
     "execution_count": 8,
     "metadata": {},
     "output_type": "execute_result"
    }
   ],
   "source": [
    "df['From Bank'].value_counts()"
   ]
  },
  {
   "cell_type": "code",
   "execution_count": 9,
   "id": "fe068c5c",
   "metadata": {
    "execution": {
     "iopub.execute_input": "2024-05-17T15:22:05.780584Z",
     "iopub.status.busy": "2024-05-17T15:22:05.779816Z",
     "iopub.status.idle": "2024-05-17T15:22:05.790392Z",
     "shell.execute_reply": "2024-05-17T15:22:05.789226Z"
    },
    "papermill": {
     "duration": 0.027178,
     "end_time": "2024-05-17T15:22:05.792616",
     "exception": false,
     "start_time": "2024-05-17T15:22:05.765438",
     "status": "completed"
    },
    "tags": []
   },
   "outputs": [
    {
     "data": {
      "text/plain": [
       "To Bank\n",
       "12        415\n",
       "10        406\n",
       "15        397\n",
       "220       321\n",
       "1         292\n",
       "         ... \n",
       "313815      1\n",
       "348279      1\n",
       "324448      1\n",
       "329285      1\n",
       "310723      1\n",
       "Name: count, Length: 2135, dtype: int64"
      ]
     },
     "execution_count": 9,
     "metadata": {},
     "output_type": "execute_result"
    }
   ],
   "source": [
    "df['To Bank'].value_counts()"
   ]
  },
  {
   "cell_type": "code",
   "execution_count": 10,
   "id": "31d0d7b3",
   "metadata": {
    "execution": {
     "iopub.execute_input": "2024-05-17T15:22:05.820068Z",
     "iopub.status.busy": "2024-05-17T15:22:05.819329Z",
     "iopub.status.idle": "2024-05-17T15:22:06.020127Z",
     "shell.execute_reply": "2024-05-17T15:22:06.018722Z"
    },
    "papermill": {
     "duration": 0.217934,
     "end_time": "2024-05-17T15:22:06.022940",
     "exception": false,
     "start_time": "2024-05-17T15:22:05.805006",
     "status": "completed"
    },
    "tags": []
   },
   "outputs": [
    {
     "data": {
      "text/html": [
       "<div>\n",
       "<style scoped>\n",
       "    .dataframe tbody tr th:only-of-type {\n",
       "        vertical-align: middle;\n",
       "    }\n",
       "\n",
       "    .dataframe tbody tr th {\n",
       "        vertical-align: top;\n",
       "    }\n",
       "\n",
       "    .dataframe thead th {\n",
       "        text-align: right;\n",
       "    }\n",
       "</style>\n",
       "<table border=\"1\" class=\"dataframe\">\n",
       "  <thead>\n",
       "    <tr style=\"text-align: right;\">\n",
       "      <th></th>\n",
       "      <th>Account</th>\n",
       "      <th>Account.1</th>\n",
       "    </tr>\n",
       "  </thead>\n",
       "  <tbody>\n",
       "    <tr>\n",
       "      <th>count</th>\n",
       "      <td>50000</td>\n",
       "      <td>50000</td>\n",
       "    </tr>\n",
       "    <tr>\n",
       "      <th>unique</th>\n",
       "      <td>37434</td>\n",
       "      <td>44321</td>\n",
       "    </tr>\n",
       "    <tr>\n",
       "      <th>top</th>\n",
       "      <td>100428660</td>\n",
       "      <td>100428660</td>\n",
       "    </tr>\n",
       "    <tr>\n",
       "      <th>freq</th>\n",
       "      <td>1648</td>\n",
       "      <td>12</td>\n",
       "    </tr>\n",
       "  </tbody>\n",
       "</table>\n",
       "</div>"
      ],
      "text/plain": [
       "          Account  Account.1\n",
       "count       50000      50000\n",
       "unique      37434      44321\n",
       "top     100428660  100428660\n",
       "freq         1648         12"
      ]
     },
     "execution_count": 10,
     "metadata": {},
     "output_type": "execute_result"
    }
   ],
   "source": [
    "df[['Account', 'Account.1']].describe()"
   ]
  },
  {
   "cell_type": "code",
   "execution_count": 9,
   "id": "e2330305",
   "metadata": {
    "execution": {
     "iopub.execute_input": "2024-05-17T15:22:06.051654Z",
     "iopub.status.busy": "2024-05-17T15:22:06.050520Z",
     "iopub.status.idle": "2024-05-17T15:22:06.059899Z",
     "shell.execute_reply": "2024-05-17T15:22:06.058976Z"
    },
    "papermill": {
     "duration": 0.025909,
     "end_time": "2024-05-17T15:22:06.061914",
     "exception": false,
     "start_time": "2024-05-17T15:22:06.036005",
     "status": "completed"
    },
    "tags": []
   },
   "outputs": [
    {
     "data": {
      "text/plain": [
       "Is Laundering\n",
       "0    499965\n",
       "1        35\n",
       "Name: count, dtype: int64"
      ]
     },
     "execution_count": 9,
     "metadata": {},
     "output_type": "execute_result"
    }
   ],
   "source": [
    "df['Is Laundering'].value_counts()"
   ]
  },
  {
   "cell_type": "code",
   "execution_count": 10,
   "id": "dd8c2d0b",
   "metadata": {},
   "outputs": [
    {
     "name": "stdout",
     "output_type": "stream",
     "text": [
      "        From Bank    Account  To Bank  Account.1  Amount Received  \\\n",
      "27581          70  100428660     8381  8035B3E00         27815.14   \n",
      "133037         70  100428660    29630  814B11040         86532.59   \n",
      "141113     215275  816439360   235985  816439870          4163.80   \n",
      "154375         70  100428660   220255  818305750         10111.03   \n",
      "161098         70  100428660     1922  8192DF510           162.16   \n",
      "163625         70  100428660   253568  819B9C7A0         13785.54   \n",
      "178693         70  100428660   167996  81C0AA460         20918.99   \n",
      "218649         70  100428660   273388  82290C460         10541.83   \n",
      "225336        952  8139F54E0   111632  8062C56E0          5331.44   \n",
      "225337     111632  8062C56E0     8456  81363F620          5602.59   \n",
      "225338     118693  823D5EB90    13729  801CF2E60          1400.54   \n",
      "225339      13729  801CF2E60   123621  81A7090F0          1467.94   \n",
      "225340      24750  81363F410   213834  808757B00         16898.29   \n",
      "225341     213834  808757B00        0  800073EF0         17607.19   \n",
      "232646     134266  814167590    36925  810E343A0        132713.46   \n",
      "232648      36925  810E343A0   119211  814AB4F60         18264.20   \n",
      "232650     119211  814AB4F60   132965  81B88A230         14567.69   \n",
      "232653     132965  81B88A230   137089  810C71940        114329.26   \n",
      "232656     137089  810C71940   216618  81D5302D0         14567.69   \n",
      "232657     216618  81D5302D0    24083  81836B520         13629.75   \n",
      "232659      24083  81836B520    38110  81B868730         97481.96   \n",
      "232661      38110  81B868730   225015  81C6EA460         14054.71   \n",
      "232662     225015  81C6EA460    18112  8045CC910         13718.22   \n",
      "232663      18112  8045CC910     7818  8037732C0         12908.33   \n",
      "232665       7818  8037732C0   121523  80D1BD2F0         10636.75   \n",
      "232667     121523  80D1BD2F0   134266  814167590       1378736.88   \n",
      "233958         70  100428660   171214  825003880          3243.60   \n",
      "234231         70  100428660   186547  825059C10          4487.08   \n",
      "239381     169746  825EB5C30   279336  825EB8AE0          4365.92   \n",
      "262330         70  100428660    27453  82A14B3A0           880.81   \n",
      "264921         70  100428660   219086  82A694670          8719.80   \n",
      "338038      39921  837F1BEB0   195762  837F1C360          4663.02   \n",
      "338527         70  100428660    63576  83810D4D0         10662.09   \n",
      "353419         70  100428660   261543  83AD18050          3150.02   \n",
      "397601         70  100428660    23683  842ED79E0           269.31   \n",
      "\n",
      "       Receiving Currency Payment Format  Is Laundering  \n",
      "27581           US Dollar         Cheque              1  \n",
      "133037          US Dollar         Cheque              1  \n",
      "141113          US Dollar            ACH              1  \n",
      "154375          US Dollar         Cheque              1  \n",
      "161098          US Dollar           Cash              1  \n",
      "163625          US Dollar           Cash              1  \n",
      "178693          US Dollar         Cheque              1  \n",
      "218649          US Dollar         Cheque              1  \n",
      "225336          US Dollar            ACH              1  \n",
      "225337          US Dollar            ACH              1  \n",
      "225338          US Dollar            ACH              1  \n",
      "225339          US Dollar            ACH              1  \n",
      "225340          US Dollar            ACH              1  \n",
      "225341          US Dollar            ACH              1  \n",
      "232646               Yuan            ACH              1  \n",
      "232648          US Dollar            ACH              1  \n",
      "232650               Euro            ACH              1  \n",
      "232653               Yuan            ACH              1  \n",
      "232656               Euro            ACH              1  \n",
      "232657               Euro            ACH              1  \n",
      "232659               Yuan            ACH              1  \n",
      "232661          US Dollar            ACH              1  \n",
      "232662          US Dollar            ACH              1  \n",
      "232663          US Dollar            ACH              1  \n",
      "232665               Euro            ACH              1  \n",
      "232667                Yen            ACH              1  \n",
      "233958          US Dollar         Cheque              1  \n",
      "234231          US Dollar    Credit Card              1  \n",
      "239381          US Dollar            ACH              1  \n",
      "262330          US Dollar         Cheque              1  \n",
      "264921          US Dollar         Cheque              1  \n",
      "338038          US Dollar            ACH              1  \n",
      "338527          US Dollar         Cheque              1  \n",
      "353419          US Dollar           Cash              1  \n",
      "397601          US Dollar    Credit Card              1  \n"
     ]
    }
   ],
   "source": [
    "\n",
    "temp = df[df['Is Laundering'] == 1]\n",
    "print(temp)\n",
    "\n"
   ]
  },
  {
   "cell_type": "code",
   "execution_count": 11,
   "id": "f8c31135",
   "metadata": {},
   "outputs": [],
   "source": [
    "numerical_features = ['From Bank', 'To Bank', 'Amount Received']\n",
    "categorical_features = ['Account', 'Account.1', 'Receiving Currency', 'Payment Format']\n",
    "\n",
    "# Define preprocessing pipelines\n",
    "num_pipeline = Pipeline([\n",
    "    (\"imputer\", SimpleImputer(strategy=\"median\")),\n",
    "    (\"scaler\", RobustScaler())\n",
    "])\n",
    "\n",
    "cat_pipeline = Pipeline([\n",
    "    (\"imputer\", SimpleImputer(strategy=\"most_frequent\")),\n",
    "    (\"ordinal\", OrdinalEncoder(handle_unknown='use_encoded_value', unknown_value=-1))\n",
    "])\n",
    "\n",
    "# Combine them in a ColumnTransformer\n",
    "preprocessor = ColumnTransformer([\n",
    "    (\"num\", num_pipeline, numerical_features),\n",
    "    (\"cat\", cat_pipeline, categorical_features)\n",
    "])"
   ]
  },
  {
   "cell_type": "code",
   "execution_count": 12,
   "id": "9a281330",
   "metadata": {},
   "outputs": [
    {
     "data": {
      "text/html": [
       "<style>#sk-container-id-1 {\n",
       "  /* Definition of color scheme common for light and dark mode */\n",
       "  --sklearn-color-text: #000;\n",
       "  --sklearn-color-text-muted: #666;\n",
       "  --sklearn-color-line: gray;\n",
       "  /* Definition of color scheme for unfitted estimators */\n",
       "  --sklearn-color-unfitted-level-0: #fff5e6;\n",
       "  --sklearn-color-unfitted-level-1: #f6e4d2;\n",
       "  --sklearn-color-unfitted-level-2: #ffe0b3;\n",
       "  --sklearn-color-unfitted-level-3: chocolate;\n",
       "  /* Definition of color scheme for fitted estimators */\n",
       "  --sklearn-color-fitted-level-0: #f0f8ff;\n",
       "  --sklearn-color-fitted-level-1: #d4ebff;\n",
       "  --sklearn-color-fitted-level-2: #b3dbfd;\n",
       "  --sklearn-color-fitted-level-3: cornflowerblue;\n",
       "\n",
       "  /* Specific color for light theme */\n",
       "  --sklearn-color-text-on-default-background: var(--sg-text-color, var(--theme-code-foreground, var(--jp-content-font-color1, black)));\n",
       "  --sklearn-color-background: var(--sg-background-color, var(--theme-background, var(--jp-layout-color0, white)));\n",
       "  --sklearn-color-border-box: var(--sg-text-color, var(--theme-code-foreground, var(--jp-content-font-color1, black)));\n",
       "  --sklearn-color-icon: #696969;\n",
       "\n",
       "  @media (prefers-color-scheme: dark) {\n",
       "    /* Redefinition of color scheme for dark theme */\n",
       "    --sklearn-color-text-on-default-background: var(--sg-text-color, var(--theme-code-foreground, var(--jp-content-font-color1, white)));\n",
       "    --sklearn-color-background: var(--sg-background-color, var(--theme-background, var(--jp-layout-color0, #111)));\n",
       "    --sklearn-color-border-box: var(--sg-text-color, var(--theme-code-foreground, var(--jp-content-font-color1, white)));\n",
       "    --sklearn-color-icon: #878787;\n",
       "  }\n",
       "}\n",
       "\n",
       "#sk-container-id-1 {\n",
       "  color: var(--sklearn-color-text);\n",
       "}\n",
       "\n",
       "#sk-container-id-1 pre {\n",
       "  padding: 0;\n",
       "}\n",
       "\n",
       "#sk-container-id-1 input.sk-hidden--visually {\n",
       "  border: 0;\n",
       "  clip: rect(1px 1px 1px 1px);\n",
       "  clip: rect(1px, 1px, 1px, 1px);\n",
       "  height: 1px;\n",
       "  margin: -1px;\n",
       "  overflow: hidden;\n",
       "  padding: 0;\n",
       "  position: absolute;\n",
       "  width: 1px;\n",
       "}\n",
       "\n",
       "#sk-container-id-1 div.sk-dashed-wrapped {\n",
       "  border: 1px dashed var(--sklearn-color-line);\n",
       "  margin: 0 0.4em 0.5em 0.4em;\n",
       "  box-sizing: border-box;\n",
       "  padding-bottom: 0.4em;\n",
       "  background-color: var(--sklearn-color-background);\n",
       "}\n",
       "\n",
       "#sk-container-id-1 div.sk-container {\n",
       "  /* jupyter's `normalize.less` sets `[hidden] { display: none; }`\n",
       "     but bootstrap.min.css set `[hidden] { display: none !important; }`\n",
       "     so we also need the `!important` here to be able to override the\n",
       "     default hidden behavior on the sphinx rendered scikit-learn.org.\n",
       "     See: https://github.com/scikit-learn/scikit-learn/issues/21755 */\n",
       "  display: inline-block !important;\n",
       "  position: relative;\n",
       "}\n",
       "\n",
       "#sk-container-id-1 div.sk-text-repr-fallback {\n",
       "  display: none;\n",
       "}\n",
       "\n",
       "div.sk-parallel-item,\n",
       "div.sk-serial,\n",
       "div.sk-item {\n",
       "  /* draw centered vertical line to link estimators */\n",
       "  background-image: linear-gradient(var(--sklearn-color-text-on-default-background), var(--sklearn-color-text-on-default-background));\n",
       "  background-size: 2px 100%;\n",
       "  background-repeat: no-repeat;\n",
       "  background-position: center center;\n",
       "}\n",
       "\n",
       "/* Parallel-specific style estimator block */\n",
       "\n",
       "#sk-container-id-1 div.sk-parallel-item::after {\n",
       "  content: \"\";\n",
       "  width: 100%;\n",
       "  border-bottom: 2px solid var(--sklearn-color-text-on-default-background);\n",
       "  flex-grow: 1;\n",
       "}\n",
       "\n",
       "#sk-container-id-1 div.sk-parallel {\n",
       "  display: flex;\n",
       "  align-items: stretch;\n",
       "  justify-content: center;\n",
       "  background-color: var(--sklearn-color-background);\n",
       "  position: relative;\n",
       "}\n",
       "\n",
       "#sk-container-id-1 div.sk-parallel-item {\n",
       "  display: flex;\n",
       "  flex-direction: column;\n",
       "}\n",
       "\n",
       "#sk-container-id-1 div.sk-parallel-item:first-child::after {\n",
       "  align-self: flex-end;\n",
       "  width: 50%;\n",
       "}\n",
       "\n",
       "#sk-container-id-1 div.sk-parallel-item:last-child::after {\n",
       "  align-self: flex-start;\n",
       "  width: 50%;\n",
       "}\n",
       "\n",
       "#sk-container-id-1 div.sk-parallel-item:only-child::after {\n",
       "  width: 0;\n",
       "}\n",
       "\n",
       "/* Serial-specific style estimator block */\n",
       "\n",
       "#sk-container-id-1 div.sk-serial {\n",
       "  display: flex;\n",
       "  flex-direction: column;\n",
       "  align-items: center;\n",
       "  background-color: var(--sklearn-color-background);\n",
       "  padding-right: 1em;\n",
       "  padding-left: 1em;\n",
       "}\n",
       "\n",
       "\n",
       "/* Toggleable style: style used for estimator/Pipeline/ColumnTransformer box that is\n",
       "clickable and can be expanded/collapsed.\n",
       "- Pipeline and ColumnTransformer use this feature and define the default style\n",
       "- Estimators will overwrite some part of the style using the `sk-estimator` class\n",
       "*/\n",
       "\n",
       "/* Pipeline and ColumnTransformer style (default) */\n",
       "\n",
       "#sk-container-id-1 div.sk-toggleable {\n",
       "  /* Default theme specific background. It is overwritten whether we have a\n",
       "  specific estimator or a Pipeline/ColumnTransformer */\n",
       "  background-color: var(--sklearn-color-background);\n",
       "}\n",
       "\n",
       "/* Toggleable label */\n",
       "#sk-container-id-1 label.sk-toggleable__label {\n",
       "  cursor: pointer;\n",
       "  display: flex;\n",
       "  width: 100%;\n",
       "  margin-bottom: 0;\n",
       "  padding: 0.5em;\n",
       "  box-sizing: border-box;\n",
       "  text-align: center;\n",
       "  align-items: start;\n",
       "  justify-content: space-between;\n",
       "  gap: 0.5em;\n",
       "}\n",
       "\n",
       "#sk-container-id-1 label.sk-toggleable__label .caption {\n",
       "  font-size: 0.6rem;\n",
       "  font-weight: lighter;\n",
       "  color: var(--sklearn-color-text-muted);\n",
       "}\n",
       "\n",
       "#sk-container-id-1 label.sk-toggleable__label-arrow:before {\n",
       "  /* Arrow on the left of the label */\n",
       "  content: \"▸\";\n",
       "  float: left;\n",
       "  margin-right: 0.25em;\n",
       "  color: var(--sklearn-color-icon);\n",
       "}\n",
       "\n",
       "#sk-container-id-1 label.sk-toggleable__label-arrow:hover:before {\n",
       "  color: var(--sklearn-color-text);\n",
       "}\n",
       "\n",
       "/* Toggleable content - dropdown */\n",
       "\n",
       "#sk-container-id-1 div.sk-toggleable__content {\n",
       "  max-height: 0;\n",
       "  max-width: 0;\n",
       "  overflow: hidden;\n",
       "  text-align: left;\n",
       "  /* unfitted */\n",
       "  background-color: var(--sklearn-color-unfitted-level-0);\n",
       "}\n",
       "\n",
       "#sk-container-id-1 div.sk-toggleable__content.fitted {\n",
       "  /* fitted */\n",
       "  background-color: var(--sklearn-color-fitted-level-0);\n",
       "}\n",
       "\n",
       "#sk-container-id-1 div.sk-toggleable__content pre {\n",
       "  margin: 0.2em;\n",
       "  border-radius: 0.25em;\n",
       "  color: var(--sklearn-color-text);\n",
       "  /* unfitted */\n",
       "  background-color: var(--sklearn-color-unfitted-level-0);\n",
       "}\n",
       "\n",
       "#sk-container-id-1 div.sk-toggleable__content.fitted pre {\n",
       "  /* unfitted */\n",
       "  background-color: var(--sklearn-color-fitted-level-0);\n",
       "}\n",
       "\n",
       "#sk-container-id-1 input.sk-toggleable__control:checked~div.sk-toggleable__content {\n",
       "  /* Expand drop-down */\n",
       "  max-height: 200px;\n",
       "  max-width: 100%;\n",
       "  overflow: auto;\n",
       "}\n",
       "\n",
       "#sk-container-id-1 input.sk-toggleable__control:checked~label.sk-toggleable__label-arrow:before {\n",
       "  content: \"▾\";\n",
       "}\n",
       "\n",
       "/* Pipeline/ColumnTransformer-specific style */\n",
       "\n",
       "#sk-container-id-1 div.sk-label input.sk-toggleable__control:checked~label.sk-toggleable__label {\n",
       "  color: var(--sklearn-color-text);\n",
       "  background-color: var(--sklearn-color-unfitted-level-2);\n",
       "}\n",
       "\n",
       "#sk-container-id-1 div.sk-label.fitted input.sk-toggleable__control:checked~label.sk-toggleable__label {\n",
       "  background-color: var(--sklearn-color-fitted-level-2);\n",
       "}\n",
       "\n",
       "/* Estimator-specific style */\n",
       "\n",
       "/* Colorize estimator box */\n",
       "#sk-container-id-1 div.sk-estimator input.sk-toggleable__control:checked~label.sk-toggleable__label {\n",
       "  /* unfitted */\n",
       "  background-color: var(--sklearn-color-unfitted-level-2);\n",
       "}\n",
       "\n",
       "#sk-container-id-1 div.sk-estimator.fitted input.sk-toggleable__control:checked~label.sk-toggleable__label {\n",
       "  /* fitted */\n",
       "  background-color: var(--sklearn-color-fitted-level-2);\n",
       "}\n",
       "\n",
       "#sk-container-id-1 div.sk-label label.sk-toggleable__label,\n",
       "#sk-container-id-1 div.sk-label label {\n",
       "  /* The background is the default theme color */\n",
       "  color: var(--sklearn-color-text-on-default-background);\n",
       "}\n",
       "\n",
       "/* On hover, darken the color of the background */\n",
       "#sk-container-id-1 div.sk-label:hover label.sk-toggleable__label {\n",
       "  color: var(--sklearn-color-text);\n",
       "  background-color: var(--sklearn-color-unfitted-level-2);\n",
       "}\n",
       "\n",
       "/* Label box, darken color on hover, fitted */\n",
       "#sk-container-id-1 div.sk-label.fitted:hover label.sk-toggleable__label.fitted {\n",
       "  color: var(--sklearn-color-text);\n",
       "  background-color: var(--sklearn-color-fitted-level-2);\n",
       "}\n",
       "\n",
       "/* Estimator label */\n",
       "\n",
       "#sk-container-id-1 div.sk-label label {\n",
       "  font-family: monospace;\n",
       "  font-weight: bold;\n",
       "  display: inline-block;\n",
       "  line-height: 1.2em;\n",
       "}\n",
       "\n",
       "#sk-container-id-1 div.sk-label-container {\n",
       "  text-align: center;\n",
       "}\n",
       "\n",
       "/* Estimator-specific */\n",
       "#sk-container-id-1 div.sk-estimator {\n",
       "  font-family: monospace;\n",
       "  border: 1px dotted var(--sklearn-color-border-box);\n",
       "  border-radius: 0.25em;\n",
       "  box-sizing: border-box;\n",
       "  margin-bottom: 0.5em;\n",
       "  /* unfitted */\n",
       "  background-color: var(--sklearn-color-unfitted-level-0);\n",
       "}\n",
       "\n",
       "#sk-container-id-1 div.sk-estimator.fitted {\n",
       "  /* fitted */\n",
       "  background-color: var(--sklearn-color-fitted-level-0);\n",
       "}\n",
       "\n",
       "/* on hover */\n",
       "#sk-container-id-1 div.sk-estimator:hover {\n",
       "  /* unfitted */\n",
       "  background-color: var(--sklearn-color-unfitted-level-2);\n",
       "}\n",
       "\n",
       "#sk-container-id-1 div.sk-estimator.fitted:hover {\n",
       "  /* fitted */\n",
       "  background-color: var(--sklearn-color-fitted-level-2);\n",
       "}\n",
       "\n",
       "/* Specification for estimator info (e.g. \"i\" and \"?\") */\n",
       "\n",
       "/* Common style for \"i\" and \"?\" */\n",
       "\n",
       ".sk-estimator-doc-link,\n",
       "a:link.sk-estimator-doc-link,\n",
       "a:visited.sk-estimator-doc-link {\n",
       "  float: right;\n",
       "  font-size: smaller;\n",
       "  line-height: 1em;\n",
       "  font-family: monospace;\n",
       "  background-color: var(--sklearn-color-background);\n",
       "  border-radius: 1em;\n",
       "  height: 1em;\n",
       "  width: 1em;\n",
       "  text-decoration: none !important;\n",
       "  margin-left: 0.5em;\n",
       "  text-align: center;\n",
       "  /* unfitted */\n",
       "  border: var(--sklearn-color-unfitted-level-1) 1pt solid;\n",
       "  color: var(--sklearn-color-unfitted-level-1);\n",
       "}\n",
       "\n",
       ".sk-estimator-doc-link.fitted,\n",
       "a:link.sk-estimator-doc-link.fitted,\n",
       "a:visited.sk-estimator-doc-link.fitted {\n",
       "  /* fitted */\n",
       "  border: var(--sklearn-color-fitted-level-1) 1pt solid;\n",
       "  color: var(--sklearn-color-fitted-level-1);\n",
       "}\n",
       "\n",
       "/* On hover */\n",
       "div.sk-estimator:hover .sk-estimator-doc-link:hover,\n",
       ".sk-estimator-doc-link:hover,\n",
       "div.sk-label-container:hover .sk-estimator-doc-link:hover,\n",
       ".sk-estimator-doc-link:hover {\n",
       "  /* unfitted */\n",
       "  background-color: var(--sklearn-color-unfitted-level-3);\n",
       "  color: var(--sklearn-color-background);\n",
       "  text-decoration: none;\n",
       "}\n",
       "\n",
       "div.sk-estimator.fitted:hover .sk-estimator-doc-link.fitted:hover,\n",
       ".sk-estimator-doc-link.fitted:hover,\n",
       "div.sk-label-container:hover .sk-estimator-doc-link.fitted:hover,\n",
       ".sk-estimator-doc-link.fitted:hover {\n",
       "  /* fitted */\n",
       "  background-color: var(--sklearn-color-fitted-level-3);\n",
       "  color: var(--sklearn-color-background);\n",
       "  text-decoration: none;\n",
       "}\n",
       "\n",
       "/* Span, style for the box shown on hovering the info icon */\n",
       ".sk-estimator-doc-link span {\n",
       "  display: none;\n",
       "  z-index: 9999;\n",
       "  position: relative;\n",
       "  font-weight: normal;\n",
       "  right: .2ex;\n",
       "  padding: .5ex;\n",
       "  margin: .5ex;\n",
       "  width: min-content;\n",
       "  min-width: 20ex;\n",
       "  max-width: 50ex;\n",
       "  color: var(--sklearn-color-text);\n",
       "  box-shadow: 2pt 2pt 4pt #999;\n",
       "  /* unfitted */\n",
       "  background: var(--sklearn-color-unfitted-level-0);\n",
       "  border: .5pt solid var(--sklearn-color-unfitted-level-3);\n",
       "}\n",
       "\n",
       ".sk-estimator-doc-link.fitted span {\n",
       "  /* fitted */\n",
       "  background: var(--sklearn-color-fitted-level-0);\n",
       "  border: var(--sklearn-color-fitted-level-3);\n",
       "}\n",
       "\n",
       ".sk-estimator-doc-link:hover span {\n",
       "  display: block;\n",
       "}\n",
       "\n",
       "/* \"?\"-specific style due to the `<a>` HTML tag */\n",
       "\n",
       "#sk-container-id-1 a.estimator_doc_link {\n",
       "  float: right;\n",
       "  font-size: 1rem;\n",
       "  line-height: 1em;\n",
       "  font-family: monospace;\n",
       "  background-color: var(--sklearn-color-background);\n",
       "  border-radius: 1rem;\n",
       "  height: 1rem;\n",
       "  width: 1rem;\n",
       "  text-decoration: none;\n",
       "  /* unfitted */\n",
       "  color: var(--sklearn-color-unfitted-level-1);\n",
       "  border: var(--sklearn-color-unfitted-level-1) 1pt solid;\n",
       "}\n",
       "\n",
       "#sk-container-id-1 a.estimator_doc_link.fitted {\n",
       "  /* fitted */\n",
       "  border: var(--sklearn-color-fitted-level-1) 1pt solid;\n",
       "  color: var(--sklearn-color-fitted-level-1);\n",
       "}\n",
       "\n",
       "/* On hover */\n",
       "#sk-container-id-1 a.estimator_doc_link:hover {\n",
       "  /* unfitted */\n",
       "  background-color: var(--sklearn-color-unfitted-level-3);\n",
       "  color: var(--sklearn-color-background);\n",
       "  text-decoration: none;\n",
       "}\n",
       "\n",
       "#sk-container-id-1 a.estimator_doc_link.fitted:hover {\n",
       "  /* fitted */\n",
       "  background-color: var(--sklearn-color-fitted-level-3);\n",
       "}\n",
       "</style><div id=\"sk-container-id-1\" class=\"sk-top-container\"><div class=\"sk-text-repr-fallback\"><pre>ColumnTransformer(transformers=[(&#x27;num&#x27;,\n",
       "                                 Pipeline(steps=[(&#x27;imputer&#x27;,\n",
       "                                                  SimpleImputer(strategy=&#x27;median&#x27;)),\n",
       "                                                 (&#x27;scaler&#x27;, RobustScaler())]),\n",
       "                                 [&#x27;From Bank&#x27;, &#x27;To Bank&#x27;, &#x27;Amount Received&#x27;]),\n",
       "                                (&#x27;cat&#x27;,\n",
       "                                 Pipeline(steps=[(&#x27;imputer&#x27;,\n",
       "                                                  SimpleImputer(strategy=&#x27;most_frequent&#x27;)),\n",
       "                                                 (&#x27;ordinal&#x27;,\n",
       "                                                  OrdinalEncoder(handle_unknown=&#x27;use_encoded_value&#x27;,\n",
       "                                                                 unknown_value=-1))]),\n",
       "                                 [&#x27;Account&#x27;, &#x27;Account.1&#x27;, &#x27;Receiving Currency&#x27;,\n",
       "                                  &#x27;Payment Format&#x27;])])</pre><b>In a Jupyter environment, please rerun this cell to show the HTML representation or trust the notebook. <br />On GitHub, the HTML representation is unable to render, please try loading this page with nbviewer.org.</b></div><div class=\"sk-container\" hidden><div class=\"sk-item sk-dashed-wrapped\"><div class=\"sk-label-container\"><div class=\"sk-label fitted sk-toggleable\"><input class=\"sk-toggleable__control sk-hidden--visually\" id=\"sk-estimator-id-1\" type=\"checkbox\" ><label for=\"sk-estimator-id-1\" class=\"sk-toggleable__label fitted sk-toggleable__label-arrow\"><div><div>ColumnTransformer</div></div><div><a class=\"sk-estimator-doc-link fitted\" rel=\"noreferrer\" target=\"_blank\" href=\"https://scikit-learn.org/1.6/modules/generated/sklearn.compose.ColumnTransformer.html\">?<span>Documentation for ColumnTransformer</span></a><span class=\"sk-estimator-doc-link fitted\">i<span>Fitted</span></span></div></label><div class=\"sk-toggleable__content fitted\"><pre>ColumnTransformer(transformers=[(&#x27;num&#x27;,\n",
       "                                 Pipeline(steps=[(&#x27;imputer&#x27;,\n",
       "                                                  SimpleImputer(strategy=&#x27;median&#x27;)),\n",
       "                                                 (&#x27;scaler&#x27;, RobustScaler())]),\n",
       "                                 [&#x27;From Bank&#x27;, &#x27;To Bank&#x27;, &#x27;Amount Received&#x27;]),\n",
       "                                (&#x27;cat&#x27;,\n",
       "                                 Pipeline(steps=[(&#x27;imputer&#x27;,\n",
       "                                                  SimpleImputer(strategy=&#x27;most_frequent&#x27;)),\n",
       "                                                 (&#x27;ordinal&#x27;,\n",
       "                                                  OrdinalEncoder(handle_unknown=&#x27;use_encoded_value&#x27;,\n",
       "                                                                 unknown_value=-1))]),\n",
       "                                 [&#x27;Account&#x27;, &#x27;Account.1&#x27;, &#x27;Receiving Currency&#x27;,\n",
       "                                  &#x27;Payment Format&#x27;])])</pre></div> </div></div><div class=\"sk-parallel\"><div class=\"sk-parallel-item\"><div class=\"sk-item\"><div class=\"sk-label-container\"><div class=\"sk-label fitted sk-toggleable\"><input class=\"sk-toggleable__control sk-hidden--visually\" id=\"sk-estimator-id-2\" type=\"checkbox\" ><label for=\"sk-estimator-id-2\" class=\"sk-toggleable__label fitted sk-toggleable__label-arrow\"><div><div>num</div></div></label><div class=\"sk-toggleable__content fitted\"><pre>[&#x27;From Bank&#x27;, &#x27;To Bank&#x27;, &#x27;Amount Received&#x27;]</pre></div> </div></div><div class=\"sk-serial\"><div class=\"sk-item\"><div class=\"sk-serial\"><div class=\"sk-item\"><div class=\"sk-estimator fitted sk-toggleable\"><input class=\"sk-toggleable__control sk-hidden--visually\" id=\"sk-estimator-id-3\" type=\"checkbox\" ><label for=\"sk-estimator-id-3\" class=\"sk-toggleable__label fitted sk-toggleable__label-arrow\"><div><div>SimpleImputer</div></div><div><a class=\"sk-estimator-doc-link fitted\" rel=\"noreferrer\" target=\"_blank\" href=\"https://scikit-learn.org/1.6/modules/generated/sklearn.impute.SimpleImputer.html\">?<span>Documentation for SimpleImputer</span></a></div></label><div class=\"sk-toggleable__content fitted\"><pre>SimpleImputer(strategy=&#x27;median&#x27;)</pre></div> </div></div><div class=\"sk-item\"><div class=\"sk-estimator fitted sk-toggleable\"><input class=\"sk-toggleable__control sk-hidden--visually\" id=\"sk-estimator-id-4\" type=\"checkbox\" ><label for=\"sk-estimator-id-4\" class=\"sk-toggleable__label fitted sk-toggleable__label-arrow\"><div><div>RobustScaler</div></div><div><a class=\"sk-estimator-doc-link fitted\" rel=\"noreferrer\" target=\"_blank\" href=\"https://scikit-learn.org/1.6/modules/generated/sklearn.preprocessing.RobustScaler.html\">?<span>Documentation for RobustScaler</span></a></div></label><div class=\"sk-toggleable__content fitted\"><pre>RobustScaler()</pre></div> </div></div></div></div></div></div></div><div class=\"sk-parallel-item\"><div class=\"sk-item\"><div class=\"sk-label-container\"><div class=\"sk-label fitted sk-toggleable\"><input class=\"sk-toggleable__control sk-hidden--visually\" id=\"sk-estimator-id-5\" type=\"checkbox\" ><label for=\"sk-estimator-id-5\" class=\"sk-toggleable__label fitted sk-toggleable__label-arrow\"><div><div>cat</div></div></label><div class=\"sk-toggleable__content fitted\"><pre>[&#x27;Account&#x27;, &#x27;Account.1&#x27;, &#x27;Receiving Currency&#x27;, &#x27;Payment Format&#x27;]</pre></div> </div></div><div class=\"sk-serial\"><div class=\"sk-item\"><div class=\"sk-serial\"><div class=\"sk-item\"><div class=\"sk-estimator fitted sk-toggleable\"><input class=\"sk-toggleable__control sk-hidden--visually\" id=\"sk-estimator-id-6\" type=\"checkbox\" ><label for=\"sk-estimator-id-6\" class=\"sk-toggleable__label fitted sk-toggleable__label-arrow\"><div><div>SimpleImputer</div></div><div><a class=\"sk-estimator-doc-link fitted\" rel=\"noreferrer\" target=\"_blank\" href=\"https://scikit-learn.org/1.6/modules/generated/sklearn.impute.SimpleImputer.html\">?<span>Documentation for SimpleImputer</span></a></div></label><div class=\"sk-toggleable__content fitted\"><pre>SimpleImputer(strategy=&#x27;most_frequent&#x27;)</pre></div> </div></div><div class=\"sk-item\"><div class=\"sk-estimator fitted sk-toggleable\"><input class=\"sk-toggleable__control sk-hidden--visually\" id=\"sk-estimator-id-7\" type=\"checkbox\" ><label for=\"sk-estimator-id-7\" class=\"sk-toggleable__label fitted sk-toggleable__label-arrow\"><div><div>OrdinalEncoder</div></div><div><a class=\"sk-estimator-doc-link fitted\" rel=\"noreferrer\" target=\"_blank\" href=\"https://scikit-learn.org/1.6/modules/generated/sklearn.preprocessing.OrdinalEncoder.html\">?<span>Documentation for OrdinalEncoder</span></a></div></label><div class=\"sk-toggleable__content fitted\"><pre>OrdinalEncoder(handle_unknown=&#x27;use_encoded_value&#x27;, unknown_value=-1)</pre></div> </div></div></div></div></div></div></div></div></div></div></div>"
      ],
      "text/plain": [
       "ColumnTransformer(transformers=[('num',\n",
       "                                 Pipeline(steps=[('imputer',\n",
       "                                                  SimpleImputer(strategy='median')),\n",
       "                                                 ('scaler', RobustScaler())]),\n",
       "                                 ['From Bank', 'To Bank', 'Amount Received']),\n",
       "                                ('cat',\n",
       "                                 Pipeline(steps=[('imputer',\n",
       "                                                  SimpleImputer(strategy='most_frequent')),\n",
       "                                                 ('ordinal',\n",
       "                                                  OrdinalEncoder(handle_unknown='use_encoded_value',\n",
       "                                                                 unknown_value=-1))]),\n",
       "                                 ['Account', 'Account.1', 'Receiving Currency',\n",
       "                                  'Payment Format'])])"
      ]
     },
     "execution_count": 12,
     "metadata": {},
     "output_type": "execute_result"
    }
   ],
   "source": [
    "preprocessor.fit(df[categorical_features + numerical_features])"
   ]
  },
  {
   "cell_type": "code",
   "execution_count": 13,
   "id": "bdc1a41c",
   "metadata": {},
   "outputs": [],
   "source": [
    "X_new_preprocessed = preprocessor.transform(temp)"
   ]
  },
  {
   "cell_type": "code",
   "execution_count": 14,
   "id": "444317f7",
   "metadata": {},
   "outputs": [],
   "source": [
    "import pickle\n",
    "\n",
    "# Load the trained model using pickle\n",
    "with open(r'models\\aml_model.pkl', 'rb') as file:\n",
    "    loaded_model_pickle = pickle.load(file)"
   ]
  },
  {
   "cell_type": "code",
   "execution_count": 15,
   "id": "712650e0",
   "metadata": {},
   "outputs": [],
   "source": [
    "predictions_pickle = loaded_model_pickle.predict(X_new_preprocessed)"
   ]
  },
  {
   "cell_type": "code",
   "execution_count": 16,
   "id": "8d93dcbc",
   "metadata": {},
   "outputs": [
    {
     "name": "stdout",
     "output_type": "stream",
     "text": [
      "[0 0 0 0 0 0 0 0 0 0 0 0 0 0 0 0 0 0 0 0 0 0 0 0 0 0 0 0 0 0 0 0 0 0 0]\n"
     ]
    }
   ],
   "source": [
    "print(predictions_pickle)"
   ]
  },
  {
   "cell_type": "code",
   "execution_count": 21,
   "id": "8552ad2d",
   "metadata": {},
   "outputs": [
    {
     "name": "stdout",
     "output_type": "stream",
     "text": [
      "              Timestamp  From Bank    Account  To Bank  Account.1  \\\n",
      "484    2022/09/01 00:03         70  100428660       20  800070AC0   \n",
      "530    2022/09/01 00:19         70  100428660       11  80011A830   \n",
      "531    2022/09/01 00:12         70  100428660       11  80011A830   \n",
      "555    2022/09/01 00:02         70  100428660        0  800140C20   \n",
      "569    2022/09/01 00:29         70  100428660       11  80014B220   \n",
      "...                 ...        ...        ...      ...        ...   \n",
      "99855  2022/09/01 00:22         70  100428660   138536  80E560040   \n",
      "99856  2022/09/01 00:09         70  100428660       11  80E561340   \n",
      "99978  2022/09/01 00:24         70  100428660   122252  80E5D97D0   \n",
      "99979  2022/09/01 00:10         70  100428660   122252  80E5D97D0   \n",
      "99980  2022/09/01 00:26         70  100428660   122252  80E5D97D0   \n",
      "\n",
      "       Amount Received Receiving Currency  Amount Paid Payment Currency  \\\n",
      "484            5105.92          US Dollar      5105.92        US Dollar   \n",
      "530            1134.48          US Dollar      1134.48        US Dollar   \n",
      "531            4145.21          US Dollar      4145.21        US Dollar   \n",
      "555          135590.25          US Dollar    135590.25        US Dollar   \n",
      "569           43238.58          US Dollar     43238.58        US Dollar   \n",
      "...                ...                ...          ...              ...   \n",
      "99855         91491.98          US Dollar     91491.98        US Dollar   \n",
      "99856         76796.02          US Dollar     76796.02        US Dollar   \n",
      "99978           397.40          US Dollar       397.40        US Dollar   \n",
      "99979           659.76          US Dollar       659.76        US Dollar   \n",
      "99980           522.46          US Dollar       522.46        US Dollar   \n",
      "\n",
      "      Payment Format  Is Laundering  \n",
      "484           Cheque              0  \n",
      "530           Cheque              0  \n",
      "531             Cash              0  \n",
      "555           Cheque              0  \n",
      "569           Cheque              0  \n",
      "...              ...            ...  \n",
      "99855           Cash              0  \n",
      "99856         Cheque              0  \n",
      "99978         Cheque              0  \n",
      "99979    Credit Card              0  \n",
      "99980           Cash              0  \n",
      "\n",
      "[1935 rows x 11 columns]\n"
     ]
    }
   ],
   "source": [
    "print(df[df['Account'] == '100428660'])\n"
   ]
  },
  {
   "cell_type": "code",
   "execution_count": 12,
   "id": "03efaa3e",
   "metadata": {
    "execution": {
     "iopub.execute_input": "2024-05-17T15:22:06.091430Z",
     "iopub.status.busy": "2024-05-17T15:22:06.090614Z",
     "iopub.status.idle": "2024-05-17T15:22:06.346498Z",
     "shell.execute_reply": "2024-05-17T15:22:06.345122Z"
    },
    "papermill": {
     "duration": 0.273724,
     "end_time": "2024-05-17T15:22:06.349286",
     "exception": false,
     "start_time": "2024-05-17T15:22:06.075562",
     "status": "completed"
    },
    "tags": []
   },
   "outputs": [
    {
     "data": {
      "text/plain": [
       "<Axes: xlabel='Is Laundering', ylabel='count'>"
      ]
     },
     "execution_count": 12,
     "metadata": {},
     "output_type": "execute_result"
    },
    {
     "data": {
      "image/png": "[encoded data removed]",
      "text/plain": [
       "<Figure size 640x480 with 1 Axes>"
      ]
     },
     "metadata": {},
     "output_type": "display_data"
    }
   ],
   "source": [
    "sns.countplot(data=df, x='Is Laundering')"
   ]
  },
  {
   "cell_type": "code",
   "execution_count": 13,
   "id": "4912f071",
   "metadata": {
    "execution": {
     "iopub.execute_input": "2024-05-17T15:22:06.381131Z",
     "iopub.status.busy": "2024-05-17T15:22:06.380117Z",
     "iopub.status.idle": "2024-05-17T15:22:06.404408Z",
     "shell.execute_reply": "2024-05-17T15:22:06.403132Z"
    },
    "papermill": {
     "duration": 0.042985,
     "end_time": "2024-05-17T15:22:06.407055",
     "exception": false,
     "start_time": "2024-05-17T15:22:06.364070",
     "status": "completed"
    },
    "tags": []
   },
   "outputs": [
    {
     "data": {
      "text/html": [
       "<div>\n",
       "<style scoped>\n",
       "    .dataframe tbody tr th:only-of-type {\n",
       "        vertical-align: middle;\n",
       "    }\n",
       "\n",
       "    .dataframe tbody tr th {\n",
       "        vertical-align: top;\n",
       "    }\n",
       "\n",
       "    .dataframe thead th {\n",
       "        text-align: right;\n",
       "    }\n",
       "</style>\n",
       "<table border=\"1\" class=\"dataframe\">\n",
       "  <thead>\n",
       "    <tr style=\"text-align: right;\">\n",
       "      <th></th>\n",
       "      <th>From Bank</th>\n",
       "      <th>Account</th>\n",
       "      <th>To Bank</th>\n",
       "      <th>Account.1</th>\n",
       "      <th>Amount Received</th>\n",
       "      <th>Receiving Currency</th>\n",
       "      <th>Payment Format</th>\n",
       "      <th>Is Laundering</th>\n",
       "    </tr>\n",
       "  </thead>\n",
       "  <tbody>\n",
       "    <tr>\n",
       "      <th>4205263</th>\n",
       "      <td>70</td>\n",
       "      <td>100428A08</td>\n",
       "      <td>148586</td>\n",
       "      <td>8120D5550</td>\n",
       "      <td>13204.53</td>\n",
       "      <td>Saudi Riyal</td>\n",
       "      <td>Cash</td>\n",
       "      <td>0</td>\n",
       "    </tr>\n",
       "    <tr>\n",
       "      <th>3270156</th>\n",
       "      <td>1132</td>\n",
       "      <td>80C50E4A0</td>\n",
       "      <td>28</td>\n",
       "      <td>80B7644F0</td>\n",
       "      <td>329.94</td>\n",
       "      <td>Mexican Peso</td>\n",
       "      <td>Credit Card</td>\n",
       "      <td>0</td>\n",
       "    </tr>\n",
       "  </tbody>\n",
       "</table>\n",
       "</div>"
      ],
      "text/plain": [
       "         From Bank    Account  To Bank  Account.1  Amount Received  \\\n",
       "4205263         70  100428A08   148586  8120D5550         13204.53   \n",
       "3270156       1132  80C50E4A0       28  80B7644F0           329.94   \n",
       "\n",
       "        Receiving Currency Payment Format  Is Laundering  \n",
       "4205263        Saudi Riyal           Cash              0  \n",
       "3270156       Mexican Peso    Credit Card              0  "
      ]
     },
     "execution_count": 13,
     "metadata": {},
     "output_type": "execute_result"
    }
   ],
   "source": [
    "## Dropping some columns\n",
    "\n",
    "cols_to_drop = ['Timestamp', 'Amount Paid', 'Payment Currency']\n",
    "\n",
    "df.drop(cols_to_drop, axis=1, inplace=True)\n",
    "\n",
    "df.head(2)"
   ]
  },
  {
   "cell_type": "code",
   "execution_count": 14,
   "id": "878f9be7",
   "metadata": {
    "execution": {
     "iopub.execute_input": "2024-05-17T15:22:06.437606Z",
     "iopub.status.busy": "2024-05-17T15:22:06.437093Z",
     "iopub.status.idle": "2024-05-17T15:22:06.446233Z",
     "shell.execute_reply": "2024-05-17T15:22:06.445028Z"
    },
    "papermill": {
     "duration": 0.027673,
     "end_time": "2024-05-17T15:22:06.448611",
     "exception": false,
     "start_time": "2024-05-17T15:22:06.420938",
     "status": "completed"
    },
    "tags": []
   },
   "outputs": [
    {
     "data": {
      "text/plain": [
       "Index(['From Bank', 'To Bank', 'Amount Received', 'Is Laundering'], dtype='object')"
      ]
     },
     "execution_count": 14,
     "metadata": {},
     "output_type": "execute_result"
    }
   ],
   "source": [
    "numeric_cols = df.select_dtypes(exclude=\"object\").columns\n",
    "\n",
    "numeric_cols"
   ]
  },
  {
   "cell_type": "code",
   "execution_count": 15,
   "id": "ab33970e",
   "metadata": {
    "execution": {
     "iopub.execute_input": "2024-05-17T15:22:06.478618Z",
     "iopub.status.busy": "2024-05-17T15:22:06.477991Z",
     "iopub.status.idle": "2024-05-17T15:22:06.496614Z",
     "shell.execute_reply": "2024-05-17T15:22:06.495393Z"
    },
    "papermill": {
     "duration": 0.036476,
     "end_time": "2024-05-17T15:22:06.498980",
     "exception": false,
     "start_time": "2024-05-17T15:22:06.462504",
     "status": "completed"
    },
    "tags": []
   },
   "outputs": [
    {
     "data": {
      "text/plain": [
       "Index(['Account', 'Account.1', 'Receiving Currency', 'Payment Format'], dtype='object')"
      ]
     },
     "execution_count": 15,
     "metadata": {},
     "output_type": "execute_result"
    }
   ],
   "source": [
    "categorical_cols = df.select_dtypes(include=\"object\").columns\n",
    "\n",
    "categorical_cols"
   ]
  },
  {
   "cell_type": "code",
   "execution_count": 16,
   "id": "a5282e7e",
   "metadata": {
    "execution": {
     "iopub.execute_input": "2024-05-17T15:22:06.529559Z",
     "iopub.status.busy": "2024-05-17T15:22:06.529047Z",
     "iopub.status.idle": "2024-05-17T15:22:06.637921Z",
     "shell.execute_reply": "2024-05-17T15:22:06.636210Z"
    },
    "papermill": {
     "duration": 0.127483,
     "end_time": "2024-05-17T15:22:06.640528",
     "exception": false,
     "start_time": "2024-05-17T15:22:06.513045",
     "status": "completed"
    },
    "tags": []
   },
   "outputs": [
    {
     "name": "stdout",
     "output_type": "stream",
     "text": [
      "Unique columns in the DataFrame: \n",
      " Account               37434\n",
      "Account.1             44321\n",
      "Receiving Currency       15\n",
      "Payment Format            7\n",
      "dtype: int64\n"
     ]
    }
   ],
   "source": [
    "## Unique columns in df\n",
    "\n",
    "unique_counts = df[categorical_cols].nunique()\n",
    "print(\"Unique columns in the DataFrame: \\n\", unique_counts)"
   ]
  },
  {
   "cell_type": "code",
   "execution_count": 17,
   "id": "8e671555",
   "metadata": {
    "execution": {
     "iopub.execute_input": "2024-05-17T15:22:06.670440Z",
     "iopub.status.busy": "2024-05-17T15:22:06.669974Z",
     "iopub.status.idle": "2024-05-17T15:22:06.683364Z",
     "shell.execute_reply": "2024-05-17T15:22:06.682527Z"
    },
    "papermill": {
     "duration": 0.030974,
     "end_time": "2024-05-17T15:22:06.685261",
     "exception": false,
     "start_time": "2024-05-17T15:22:06.654287",
     "status": "completed"
    },
    "tags": []
   },
   "outputs": [
    {
     "data": {
      "text/html": [
       "<div>\n",
       "<style scoped>\n",
       "    .dataframe tbody tr th:only-of-type {\n",
       "        vertical-align: middle;\n",
       "    }\n",
       "\n",
       "    .dataframe tbody tr th {\n",
       "        vertical-align: top;\n",
       "    }\n",
       "\n",
       "    .dataframe thead th {\n",
       "        text-align: right;\n",
       "    }\n",
       "</style>\n",
       "<table border=\"1\" class=\"dataframe\">\n",
       "  <thead>\n",
       "    <tr style=\"text-align: right;\">\n",
       "      <th></th>\n",
       "      <th>From Bank</th>\n",
       "      <th>Account</th>\n",
       "      <th>To Bank</th>\n",
       "      <th>Account.1</th>\n",
       "      <th>Amount Received</th>\n",
       "      <th>Receiving Currency</th>\n",
       "      <th>Payment Format</th>\n",
       "      <th>Is Laundering</th>\n",
       "    </tr>\n",
       "  </thead>\n",
       "  <tbody>\n",
       "    <tr>\n",
       "      <th>4205263</th>\n",
       "      <td>70</td>\n",
       "      <td>100428A08</td>\n",
       "      <td>148586</td>\n",
       "      <td>8120D5550</td>\n",
       "      <td>13204.53</td>\n",
       "      <td>Saudi Riyal</td>\n",
       "      <td>Cash</td>\n",
       "      <td>0</td>\n",
       "    </tr>\n",
       "    <tr>\n",
       "      <th>3270156</th>\n",
       "      <td>1132</td>\n",
       "      <td>80C50E4A0</td>\n",
       "      <td>28</td>\n",
       "      <td>80B7644F0</td>\n",
       "      <td>329.94</td>\n",
       "      <td>Mexican Peso</td>\n",
       "      <td>Credit Card</td>\n",
       "      <td>0</td>\n",
       "    </tr>\n",
       "    <tr>\n",
       "      <th>2669041</th>\n",
       "      <td>70</td>\n",
       "      <td>1004288E8</td>\n",
       "      <td>32814</td>\n",
       "      <td>80C1FC0D0</td>\n",
       "      <td>54497.52</td>\n",
       "      <td>Mexican Peso</td>\n",
       "      <td>Credit Card</td>\n",
       "      <td>0</td>\n",
       "    </tr>\n",
       "  </tbody>\n",
       "</table>\n",
       "</div>"
      ],
      "text/plain": [
       "         From Bank    Account  To Bank  Account.1  Amount Received  \\\n",
       "4205263         70  100428A08   148586  8120D5550         13204.53   \n",
       "3270156       1132  80C50E4A0       28  80B7644F0           329.94   \n",
       "2669041         70  1004288E8    32814  80C1FC0D0         54497.52   \n",
       "\n",
       "        Receiving Currency Payment Format  Is Laundering  \n",
       "4205263        Saudi Riyal           Cash              0  \n",
       "3270156       Mexican Peso    Credit Card              0  \n",
       "2669041       Mexican Peso    Credit Card              0  "
      ]
     },
     "execution_count": 17,
     "metadata": {},
     "output_type": "execute_result"
    }
   ],
   "source": [
    "df.head(3)"
   ]
  },
  {
   "cell_type": "code",
   "execution_count": 18,
   "id": "6bdbad32",
   "metadata": {
    "execution": {
     "iopub.execute_input": "2024-05-17T15:22:06.716128Z",
     "iopub.status.busy": "2024-05-17T15:22:06.715158Z",
     "iopub.status.idle": "2024-05-17T15:22:06.723210Z",
     "shell.execute_reply": "2024-05-17T15:22:06.722063Z"
    },
    "papermill": {
     "duration": 0.025795,
     "end_time": "2024-05-17T15:22:06.725303",
     "exception": false,
     "start_time": "2024-05-17T15:22:06.699508",
     "status": "completed"
    },
    "tags": []
   },
   "outputs": [
    {
     "data": {
      "text/plain": [
       "Index(['From Bank', 'Account', 'To Bank', 'Account.1', 'Amount Received',\n",
       "       'Receiving Currency', 'Payment Format', 'Is Laundering'],\n",
       "      dtype='object')"
      ]
     },
     "execution_count": 18,
     "metadata": {},
     "output_type": "execute_result"
    }
   ],
   "source": [
    "df.columns"
   ]
  },
  {
   "cell_type": "code",
   "execution_count": 19,
   "id": "615c0d52",
   "metadata": {
    "execution": {
     "iopub.execute_input": "2024-05-17T15:22:06.756264Z",
     "iopub.status.busy": "2024-05-17T15:22:06.755422Z",
     "iopub.status.idle": "2024-05-17T15:22:06.769782Z",
     "shell.execute_reply": "2024-05-17T15:22:06.768357Z"
    },
    "papermill": {
     "duration": 0.032822,
     "end_time": "2024-05-17T15:22:06.772506",
     "exception": false,
     "start_time": "2024-05-17T15:22:06.739684",
     "status": "completed"
    },
    "tags": []
   },
   "outputs": [
    {
     "data": {
      "text/plain": [
       "Receiving Currency\n",
       "US Dollar            18395\n",
       "Euro                 11583\n",
       "Swiss Franc           2444\n",
       "Yuan                  1977\n",
       "Shekel                1923\n",
       "UK Pound              1819\n",
       "Rupee                 1804\n",
       "Yen                   1578\n",
       "Ruble                 1564\n",
       "Bitcoin               1483\n",
       "Australian Dollar     1401\n",
       "Canadian Dollar       1342\n",
       "Mexican Peso          1110\n",
       "Saudi Riyal            860\n",
       "Brazil Real            717\n",
       "Name: count, dtype: int64"
      ]
     },
     "execution_count": 19,
     "metadata": {},
     "output_type": "execute_result"
    }
   ],
   "source": [
    "df['Receiving Currency'].value_counts()"
   ]
  },
  {
   "cell_type": "code",
   "execution_count": 20,
   "id": "243def6e",
   "metadata": {
    "execution": {
     "iopub.execute_input": "2024-05-17T15:22:06.892513Z",
     "iopub.status.busy": "2024-05-17T15:22:06.890845Z",
     "iopub.status.idle": "2024-05-17T15:22:06.931439Z",
     "shell.execute_reply": "2024-05-17T15:22:06.930442Z"
    },
    "papermill": {
     "duration": 0.14713,
     "end_time": "2024-05-17T15:22:06.934116",
     "exception": false,
     "start_time": "2024-05-17T15:22:06.786986",
     "status": "completed"
    },
    "tags": []
   },
   "outputs": [
    {
     "data": {
      "text/plain": [
       "From Bank             0\n",
       "Account               0\n",
       "To Bank               0\n",
       "Account.1             0\n",
       "Amount Received       0\n",
       "Receiving Currency    0\n",
       "Payment Format        0\n",
       "Is Laundering         0\n",
       "dtype: int64"
      ]
     },
     "execution_count": 20,
     "metadata": {},
     "output_type": "execute_result"
    }
   ],
   "source": [
    "df.isnull().sum()"
   ]
  },
  {
   "cell_type": "markdown",
   "id": "a82f47da",
   "metadata": {
    "papermill": {
     "duration": 0.01423,
     "end_time": "2024-05-17T15:22:06.963422",
     "exception": false,
     "start_time": "2024-05-17T15:22:06.949192",
     "status": "completed"
    },
    "tags": []
   },
   "source": [
    "## Dividing into Independent and Dependent features"
   ]
  },
  {
   "cell_type": "code",
   "execution_count": 21,
   "id": "2e81f511",
   "metadata": {
    "execution": {
     "iopub.execute_input": "2024-05-17T15:22:06.995109Z",
     "iopub.status.busy": "2024-05-17T15:22:06.994033Z",
     "iopub.status.idle": "2024-05-17T15:22:07.007337Z",
     "shell.execute_reply": "2024-05-17T15:22:07.005791Z"
    },
    "papermill": {
     "duration": 0.032573,
     "end_time": "2024-05-17T15:22:07.010560",
     "exception": false,
     "start_time": "2024-05-17T15:22:06.977987",
     "status": "completed"
    },
    "tags": []
   },
   "outputs": [],
   "source": [
    "X = df.drop(columns=[\"Is Laundering\"], axis=1)\n",
    "y = df[\"Is Laundering\"]"
   ]
  },
  {
   "cell_type": "code",
   "execution_count": 22,
   "id": "6a163601",
   "metadata": {
    "execution": {
     "iopub.execute_input": "2024-05-17T15:22:07.042730Z",
     "iopub.status.busy": "2024-05-17T15:22:07.041731Z",
     "iopub.status.idle": "2024-05-17T15:22:07.051393Z",
     "shell.execute_reply": "2024-05-17T15:22:07.050253Z"
    },
    "papermill": {
     "duration": 0.028497,
     "end_time": "2024-05-17T15:22:07.053833",
     "exception": false,
     "start_time": "2024-05-17T15:22:07.025336",
     "status": "completed"
    },
    "tags": []
   },
   "outputs": [
    {
     "data": {
      "text/plain": [
       "Index(['From Bank', 'To Bank', 'Amount Received'], dtype='object')"
      ]
     },
     "execution_count": 22,
     "metadata": {},
     "output_type": "execute_result"
    }
   ],
   "source": [
    "numerical_features = X.select_dtypes(exclude=\"object\").columns\n",
    "\n",
    "numerical_features"
   ]
  },
  {
   "cell_type": "code",
   "execution_count": 23,
   "id": "35847754",
   "metadata": {
    "execution": {
     "iopub.execute_input": "2024-05-17T15:22:07.086415Z",
     "iopub.status.busy": "2024-05-17T15:22:07.085592Z",
     "iopub.status.idle": "2024-05-17T15:22:07.104945Z",
     "shell.execute_reply": "2024-05-17T15:22:07.103555Z"
    },
    "papermill": {
     "duration": 0.038548,
     "end_time": "2024-05-17T15:22:07.107725",
     "exception": false,
     "start_time": "2024-05-17T15:22:07.069177",
     "status": "completed"
    },
    "tags": []
   },
   "outputs": [
    {
     "data": {
      "text/plain": [
       "Index(['Account', 'Account.1', 'Receiving Currency', 'Payment Format'], dtype='object')"
      ]
     },
     "execution_count": 23,
     "metadata": {},
     "output_type": "execute_result"
    }
   ],
   "source": [
    "categorical_features = X.select_dtypes(include=\"object\").columns\n",
    "\n",
    "categorical_features"
   ]
  },
  {
   "cell_type": "markdown",
   "id": "07673810",
   "metadata": {
    "papermill": {
     "duration": 0.015324,
     "end_time": "2024-05-17T15:22:07.138250",
     "exception": false,
     "start_time": "2024-05-17T15:22:07.122926",
     "status": "completed"
    },
    "tags": []
   },
   "source": [
    "## Defining the Pipeline"
   ]
  },
  {
   "cell_type": "code",
   "execution_count": 24,
   "id": "9bdd2ee9",
   "metadata": {
    "execution": {
     "iopub.execute_input": "2024-05-17T15:22:07.171230Z",
     "iopub.status.busy": "2024-05-17T15:22:07.170789Z",
     "iopub.status.idle": "2024-05-17T15:22:07.178096Z",
     "shell.execute_reply": "2024-05-17T15:22:07.176410Z"
    },
    "papermill": {
     "duration": 0.027746,
     "end_time": "2024-05-17T15:22:07.180879",
     "exception": false,
     "start_time": "2024-05-17T15:22:07.153133",
     "status": "completed"
    },
    "tags": []
   },
   "outputs": [],
   "source": [
    "## Define the pipeline\n",
    "\n",
    "num_pipeline = Pipeline(\n",
    "    steps=[\n",
    "        (\"imputer\", SimpleImputer(strategy=\"median\")),\n",
    "        (\"scaler\", RobustScaler())\n",
    "    ]\n",
    ")\n",
    "\n",
    "cat_pipeline = Pipeline(\n",
    "    steps=[\n",
    "        (\"imputer\", SimpleImputer(strategy=\"most_frequent\")),\n",
    "        (\"ordinalencoder\", OrdinalEncoder()),\n",
    "    ]\n",
    ")"
   ]
  },
  {
   "cell_type": "code",
   "execution_count": 25,
   "id": "3ecca38f",
   "metadata": {
    "execution": {
     "iopub.execute_input": "2024-05-17T15:22:07.214534Z",
     "iopub.status.busy": "2024-05-17T15:22:07.214026Z",
     "iopub.status.idle": "2024-05-17T15:22:07.220326Z",
     "shell.execute_reply": "2024-05-17T15:22:07.218797Z"
    },
    "papermill": {
     "duration": 0.025923,
     "end_time": "2024-05-17T15:22:07.223007",
     "exception": false,
     "start_time": "2024-05-17T15:22:07.197084",
     "status": "completed"
    },
    "tags": []
   },
   "outputs": [],
   "source": [
    "transformer = ColumnTransformer(transformers=[\n",
    "    (\"OrdinalEncoder\", OrdinalEncoder(handle_unknown='use_encoded_value', unknown_value=-1), categorical_features),\n",
    "    (\"RobustScaler\", RobustScaler(), numerical_features)\n",
    "], remainder=\"passthrough\")"
   ]
  },
  {
   "cell_type": "code",
   "execution_count": 26,
   "id": "92392f66",
   "metadata": {
    "execution": {
     "iopub.execute_input": "2024-05-17T15:22:07.254989Z",
     "iopub.status.busy": "2024-05-17T15:22:07.254551Z",
     "iopub.status.idle": "2024-05-17T15:22:07.281460Z",
     "shell.execute_reply": "2024-05-17T15:22:07.280194Z"
    },
    "papermill": {
     "duration": 0.046359,
     "end_time": "2024-05-17T15:22:07.284276",
     "exception": false,
     "start_time": "2024-05-17T15:22:07.237917",
     "status": "completed"
    },
    "tags": []
   },
   "outputs": [],
   "source": [
    "X_train, X_test, y_train, y_test = train_test_split(X, y, test_size=0.2, random_state=42)"
   ]
  },
  {
   "cell_type": "code",
   "execution_count": 27,
   "id": "059acfc2",
   "metadata": {
    "execution": {
     "iopub.execute_input": "2024-05-17T15:22:07.317224Z",
     "iopub.status.busy": "2024-05-17T15:22:07.316686Z",
     "iopub.status.idle": "2024-05-17T15:22:08.114779Z",
     "shell.execute_reply": "2024-05-17T15:22:08.113551Z"
    },
    "papermill": {
     "duration": 0.818163,
     "end_time": "2024-05-17T15:22:08.117694",
     "exception": false,
     "start_time": "2024-05-17T15:22:07.299531",
     "status": "completed"
    },
    "tags": []
   },
   "outputs": [],
   "source": [
    "X_train = transformer.fit_transform(X_train)\n",
    "X_test = transformer.transform(X_test)"
   ]
  },
  {
   "cell_type": "code",
   "execution_count": 28,
   "id": "0d33e7d9",
   "metadata": {
    "execution": {
     "iopub.execute_input": "2024-05-17T15:22:08.149887Z",
     "iopub.status.busy": "2024-05-17T15:22:08.149412Z",
     "iopub.status.idle": "2024-05-17T15:22:08.157358Z",
     "shell.execute_reply": "2024-05-17T15:22:08.156067Z"
    },
    "papermill": {
     "duration": 0.026679,
     "end_time": "2024-05-17T15:22:08.159641",
     "exception": false,
     "start_time": "2024-05-17T15:22:08.132962",
     "status": "completed"
    },
    "tags": []
   },
   "outputs": [
    {
     "data": {
      "text/plain": [
       "((40000, 7), (10000, 7))"
      ]
     },
     "execution_count": 28,
     "metadata": {},
     "output_type": "execute_result"
    }
   ],
   "source": [
    "X_train.shape, X_test.shape"
   ]
  },
  {
   "cell_type": "markdown",
   "id": "4c430a4b",
   "metadata": {
    "papermill": {
     "duration": 0.014676,
     "end_time": "2024-05-17T15:22:08.189427",
     "exception": false,
     "start_time": "2024-05-17T15:22:08.174751",
     "status": "completed"
    },
    "tags": []
   },
   "source": [
    "## Training Base Model"
   ]
  },
  {
   "cell_type": "code",
   "execution_count": 29,
   "id": "194d83da",
   "metadata": {
    "execution": {
     "iopub.execute_input": "2024-05-17T15:22:08.223738Z",
     "iopub.status.busy": "2024-05-17T15:22:08.221043Z",
     "iopub.status.idle": "2024-05-17T15:22:11.793198Z",
     "shell.execute_reply": "2024-05-17T15:22:11.791751Z"
    },
    "papermill": {
     "duration": 3.591248,
     "end_time": "2024-05-17T15:22:11.795747",
     "exception": false,
     "start_time": "2024-05-17T15:22:08.204499",
     "status": "completed"
    },
    "tags": []
   },
   "outputs": [
    {
     "name": "stdout",
     "output_type": "stream",
     "text": [
      "Fitting 2 folds for each of 9 candidates, totalling 18 fits\n",
      "[CV] END ...............................eta=0.1, max_depth=4; total time=   0.2s\n",
      "[CV] END ...............................eta=0.1, max_depth=4; total time=   0.2s\n",
      "[CV] END ...............................eta=0.1, max_depth=8; total time=   0.2s\n",
      "[CV] END ...............................eta=0.1, max_depth=8; total time=   0.2s\n",
      "[CV] END ..............................eta=0.1, max_depth=16; total time=   0.2s\n",
      "[CV] END ..............................eta=0.1, max_depth=16; total time=   0.2s\n",
      "[CV] END ...............................eta=0.2, max_depth=4; total time=   0.2s\n",
      "[CV] END ...............................eta=0.2, max_depth=4; total time=   0.1s\n",
      "[CV] END ...............................eta=0.2, max_depth=8; total time=   0.2s\n",
      "[CV] END ...............................eta=0.2, max_depth=8; total time=   0.2s\n",
      "[CV] END ..............................eta=0.2, max_depth=16; total time=   0.2s\n",
      "[CV] END ..............................eta=0.2, max_depth=16; total time=   0.2s\n",
      "[CV] END ...............................eta=0.3, max_depth=4; total time=   0.2s\n",
      "[CV] END ...............................eta=0.3, max_depth=4; total time=   0.2s\n",
      "[CV] END ...............................eta=0.3, max_depth=8; total time=   0.2s\n",
      "[CV] END ...............................eta=0.3, max_depth=8; total time=   0.2s\n",
      "[CV] END ..............................eta=0.3, max_depth=16; total time=   0.2s\n",
      "[CV] END ..............................eta=0.3, max_depth=16; total time=   0.2s\n",
      "Best Parameters:  {'eta': 0.1, 'max_depth': 4}\n",
      "Test AUC:  0.9215938027524249\n"
     ]
    }
   ],
   "source": [
    "param_grid = {\n",
    "    'max_depth': [4,8,16],\n",
    "    'eta': [0.1,0.2,0.3],\n",
    "}\n",
    "\n",
    "xgb = XGBClassifier(eval_metric='logloss', random_state=42)\n",
    "\n",
    "grid_search = GridSearchCV(\n",
    "    estimator=xgb,\n",
    "    param_grid=param_grid,\n",
    "    scoring='roc_auc',\n",
    "    cv=2,\n",
    "    verbose=2\n",
    ")\n",
    "\n",
    "grid_search.fit(X_train, y_train)\n",
    "\n",
    "print(\"Best Parameters: \", grid_search.best_params_)\n",
    "\n",
    "best_model = grid_search.best_estimator_\n",
    "\n",
    "y_pred = best_model.predict_proba(X_test)[:, 1]\n",
    "test_auc = roc_auc_score(y_test, y_pred)\n",
    "print(\"Test AUC: \", test_auc)"
   ]
  },
  {
   "cell_type": "code",
   "execution_count": 30,
   "id": "18d843a5",
   "metadata": {
    "execution": {
     "iopub.execute_input": "2024-05-17T15:22:11.827916Z",
     "iopub.status.busy": "2024-05-17T15:22:11.827539Z",
     "iopub.status.idle": "2024-05-17T15:22:12.096020Z",
     "shell.execute_reply": "2024-05-17T15:22:12.094922Z"
    },
    "papermill": {
     "duration": 0.287031,
     "end_time": "2024-05-17T15:22:12.098192",
     "exception": false,
     "start_time": "2024-05-17T15:22:11.811161",
     "status": "completed"
    },
    "tags": []
   },
   "outputs": [
    {
     "name": "stdout",
     "output_type": "stream",
     "text": [
      "Test Set AUC:  0.9215938027524249\n"
     ]
    },
    {
     "data": {
      "image/png": "[encoded data removed]",
      "text/plain": [
       "<Figure size 640x480 with 1 Axes>"
      ]
     },
     "metadata": {},
     "output_type": "display_data"
    }
   ],
   "source": [
    "from sklearn.metrics import roc_curve, roc_auc_score\n",
    "\n",
    "test_probabilities = best_model.predict_proba(X_test)[:, 1]\n",
    "\n",
    "test_auc = roc_auc_score(y_test, test_probabilities)\n",
    "print(\"Test Set AUC: \", test_auc)\n",
    "\n",
    "fpr, tpr, thresholds = roc_curve(y_test, test_probabilities)\n",
    "\n",
    "plt.figure()\n",
    "plt.plot(fpr, tpr, color='darkorange', lw=2, label='ROC curve (area = %0.2f)' % test_auc)\n",
    "plt.plot([0, 1], [0, 1], color='navy', lw=2, linestyle='--')\n",
    "plt.xlim([0.0, 1.0])\n",
    "plt.ylim([0.0, 1.05])\n",
    "plt.xlabel('False Positive Rate')\n",
    "plt.ylabel('True Positive Rate')\n",
    "plt.title('Receiver Operating Characteristic')\n",
    "plt.legend(loc=\"lower right\")\n",
    "plt.show();"
   ]
  },
  {
   "cell_type": "code",
   "execution_count": 31,
   "id": "b966f14e",
   "metadata": {
    "execution": {
     "iopub.execute_input": "2024-05-17T15:22:12.131290Z",
     "iopub.status.busy": "2024-05-17T15:22:12.130897Z",
     "iopub.status.idle": "2024-05-17T15:22:12.386517Z",
     "shell.execute_reply": "2024-05-17T15:22:12.385353Z"
    },
    "papermill": {
     "duration": 0.275196,
     "end_time": "2024-05-17T15:22:12.388975",
     "exception": false,
     "start_time": "2024-05-17T15:22:12.113779",
     "status": "completed"
    },
    "tags": []
   },
   "outputs": [
    {
     "name": "stdout",
     "output_type": "stream",
     "text": [
      "Desired TPR of around 90%:\n"
     ]
    },
    {
     "data": {
      "image/png": "[encoded data removed]",
      "text/plain": [
       "<Figure size 700x500 with 2 Axes>"
      ]
     },
     "metadata": {},
     "output_type": "display_data"
    },
    {
     "name": "stdout",
     "output_type": "stream",
     "text": [
      "False Positive Rate (FPR): 0.055\n",
      "True Positive Rate (TPR): 0.929\n"
     ]
    }
   ],
   "source": [
    "# Confusion Matrix, TPR, and FPR at around a TPR of 0.87\n",
    "desired_tpr = 0.92\n",
    "closest_threshold = thresholds[np.argmin(np.abs(tpr - desired_tpr))]\n",
    "print(f\"Desired TPR of around 90%:\")\n",
    "\n",
    "y_pred = (test_probabilities >= closest_threshold).astype(int)\n",
    "cm = confusion_matrix(y_test, y_pred)\n",
    "\n",
    "plt.figure(figsize=(7,5))\n",
    "sns.heatmap(cm, annot=True, fmt=\"d\", cmap=\"Blues\")\n",
    "plt.xlabel('Predicted labels')\n",
    "plt.ylabel('True labels')\n",
    "plt.title(f'Confusion Matrix at {desired_tpr*100}% TPR')\n",
    "plt.show()\n",
    "\n",
    "tn, fp, fn, tp = cm.ravel()\n",
    "fpr_cm = fp / (fp + tn)\n",
    "tpr_cm = tp / (tp + fn)\n",
    "\n",
    "print(f\"False Positive Rate (FPR): {fpr_cm:.3f}\")\n",
    "print(f\"True Positive Rate (TPR): {tpr_cm:.3f}\")"
   ]
  },
  {
   "cell_type": "code",
   "execution_count": 32,
   "id": "6d83d160",
   "metadata": {
    "execution": {
     "iopub.execute_input": "2024-05-17T15:22:12.424717Z",
     "iopub.status.busy": "2024-05-17T15:22:12.424047Z",
     "iopub.status.idle": "2024-05-17T15:22:12.449960Z",
     "shell.execute_reply": "2024-05-17T15:22:12.448651Z"
    },
    "papermill": {
     "duration": 0.04704,
     "end_time": "2024-05-17T15:22:12.452413",
     "exception": false,
     "start_time": "2024-05-17T15:22:12.405373",
     "status": "completed"
    },
    "tags": []
   },
   "outputs": [
    {
     "name": "stdout",
     "output_type": "stream",
     "text": [
      "              precision    recall  f1-score   support\n",
      "\n",
      "           0       1.00      0.94      0.97      9986\n",
      "           1       0.02      0.93      0.04        14\n",
      "\n",
      "    accuracy                           0.94     10000\n",
      "   macro avg       0.51      0.94      0.51     10000\n",
      "weighted avg       1.00      0.94      0.97     10000\n",
      "\n"
     ]
    }
   ],
   "source": [
    "from sklearn.metrics import classification_report\n",
    "\n",
    "print(classification_report(y_test, y_pred))"
   ]
  },
  {
   "cell_type": "markdown",
   "id": "5b30e105",
   "metadata": {
    "papermill": {
     "duration": 0.01577,
     "end_time": "2024-05-17T15:22:12.484678",
     "exception": false,
     "start_time": "2024-05-17T15:22:12.468908",
     "status": "completed"
    },
    "tags": []
   },
   "source": [
    "## Handling Data Imbalance using SMOTE"
   ]
  },
  {
   "cell_type": "code",
   "execution_count": 33,
   "id": "51587496",
   "metadata": {
    "execution": {
     "iopub.execute_input": "2024-05-17T15:22:12.518681Z",
     "iopub.status.busy": "2024-05-17T15:22:12.518295Z",
     "iopub.status.idle": "2024-05-17T15:22:12.561769Z",
     "shell.execute_reply": "2024-05-17T15:22:12.560901Z"
    },
    "papermill": {
     "duration": 0.063091,
     "end_time": "2024-05-17T15:22:12.563851",
     "exception": false,
     "start_time": "2024-05-17T15:22:12.500760",
     "status": "completed"
    },
    "tags": []
   },
   "outputs": [
    {
     "name": "stdout",
     "output_type": "stream",
     "text": [
      "=============================\n",
      "Class= 0, n=39948 (99.87%)\n",
      "Class= 1, n=52 (0.13%)\n",
      "=============================\n",
      "Class= 0, n=39948 (99.87%)\n",
      "Class= 1, n=39948 (99.87%)\n",
      "=============================\n",
      "Upsampled data shape:  (79896, 7) (79896,)\n"
     ]
    }
   ],
   "source": [
    "# upsampling using smote\n",
    "# upsampling using smote\n",
    "\n",
    "from imblearn.over_sampling import SMOTE\n",
    "from collections import Counter\n",
    "\n",
    "counter = Counter(y_train)\n",
    "\n",
    "print(\"=============================\")\n",
    "\n",
    "for k,v in counter.items():\n",
    "    per = 100*v/len(y_train)\n",
    "    print(f\"Class= {k}, n={v} ({per:.2f}%)\")\n",
    "\n",
    "oversample = SMOTE()\n",
    "X_train_os, y_train_os = oversample.fit_resample(X_train, y_train)\n",
    "\n",
    "counter = Counter(y_train_os)\n",
    "\n",
    "print(\"=============================\")\n",
    "\n",
    "for k,v in counter.items():\n",
    "    per = 100*v/len(y_train)\n",
    "    print(f\"Class= {k}, n={v} ({per:.2f}%)\")\n",
    "\n",
    "print(\"=============================\")\n",
    "\n",
    "print(\"Upsampled data shape: \", X_train_os.shape, y_train_os.shape)"
   ]
  },
  {
   "cell_type": "code",
   "execution_count": 34,
   "id": "bbf8fd41",
   "metadata": {
    "execution": {
     "iopub.execute_input": "2024-05-17T15:22:12.600898Z",
     "iopub.status.busy": "2024-05-17T15:22:12.600443Z",
     "iopub.status.idle": "2024-05-17T15:22:12.619472Z",
     "shell.execute_reply": "2024-05-17T15:22:12.618214Z"
    },
    "papermill": {
     "duration": 0.040612,
     "end_time": "2024-05-17T15:22:12.621798",
     "exception": false,
     "start_time": "2024-05-17T15:22:12.581186",
     "status": "completed"
    },
    "tags": []
   },
   "outputs": [
    {
     "name": "stdout",
     "output_type": "stream",
     "text": [
      "Class 0: 39948 samples\n",
      "Class 1: 39948 samples\n",
      "The target variable 'y' is balanced.\n"
     ]
    }
   ],
   "source": [
    "from collections import Counter\n",
    "\n",
    "# Assuming 'y' is your target variable\n",
    "class_distribution = Counter(y_train_os)\n",
    "\n",
    "# Print the class distribution\n",
    "for class_label, count in class_distribution.items():\n",
    "    print(f\"Class {class_label}: {count} samples\")\n",
    "\n",
    "# Check if 'y' is balanced\n",
    "is_balanced = all(count == class_distribution[y_train_os[0]] for count in class_distribution.values())\n",
    "\n",
    "if is_balanced:\n",
    "    print(\"The target variable 'y' is balanced.\")\n",
    "else:\n",
    "    print(\"The target variable 'y' is imbalanced.\")"
   ]
  },
  {
   "cell_type": "code",
   "execution_count": 35,
   "id": "c7b1afac",
   "metadata": {
    "execution": {
     "iopub.execute_input": "2024-05-17T15:22:12.659289Z",
     "iopub.status.busy": "2024-05-17T15:22:12.658848Z",
     "iopub.status.idle": "2024-05-17T15:22:12.672233Z",
     "shell.execute_reply": "2024-05-17T15:22:12.670911Z"
    },
    "papermill": {
     "duration": 0.03524,
     "end_time": "2024-05-17T15:22:12.674523",
     "exception": false,
     "start_time": "2024-05-17T15:22:12.639283",
     "status": "completed"
    },
    "tags": []
   },
   "outputs": [],
   "source": [
    "def fit_classification_models(X, y, test_size=0.2, random_state=42):\n",
    "    \"\"\"\n",
    "    Fit classification models using XGBoost, RandomForest, and ExtraTrees classifiers.\n",
    "\n",
    "    Parameters:\n",
    "    -----------\n",
    "    X : array-like of shape (n_samples, n_features)\n",
    "        The input data.\n",
    "\n",
    "    y : array-like of shape (n_samples,)\n",
    "        The target variable.\n",
    "\n",
    "    test_size : float, default=0.2\n",
    "        The proportion of the dataset to include in the test split.\n",
    "\n",
    "    random_state : int, default=42\n",
    "        Controls the randomness of the dataset splitting.\n",
    "\n",
    "    Returns:\n",
    "    --------\n",
    "    results : dict\n",
    "        A dictionary containing the performance metrics for XGBoost, RandomForest, and ExtraTrees classifiers,\n",
    "        including training and testing results along with confusion matrices and classification reports.\n",
    "    \"\"\"\n",
    "\n",
    "    # Split the dataset into training and testing sets\n",
    "    X_train, X_test, y_train, y_test = train_test_split(X, y, test_size=test_size, random_state=random_state)\n",
    "\n",
    "    # Create pipelines for XGBoost, RandomForest, and ExtraTrees classifiers\n",
    "    pipelines = {\n",
    "        'XGBoost': Pipeline([('scaler', RobustScaler()), ('classifier', XGBClassifier())]),\n",
    "        'Random Forest': Pipeline([('scaler', RobustScaler()), ('classifier', RandomForestClassifier())]),\n",
    "        'ExtraTreesClassifier': Pipeline([('scaler', RobustScaler()), ('classifier', ExtraTreesClassifier())]),\n",
    "    }\n",
    "\n",
    "    # Fit and evaluate XGBoost, RandomForest, and ExtraTrees classifiers\n",
    "    results = {}\n",
    "\n",
    "    for classifier_name, pipeline in pipelines.items():\n",
    "        pipeline.fit(X_train, y_train)\n",
    "\n",
    "        # Training results\n",
    "        y_train_pred = pipeline.predict(X_train)\n",
    "        train_precision = round(precision_score(y_train, y_train_pred, average=\"weighted\") * 100, 1)\n",
    "        train_recall = round(recall_score(y_train, y_train_pred, average=\"weighted\") * 100, 1)\n",
    "        train_f1 = round(f1_score(y_train, y_train_pred, average=\"weighted\") * 100, 1)\n",
    "        train_conf_matrix = confusion_matrix(y_train, y_train_pred)\n",
    "        train_classification_report = classification_report(y_train, y_train_pred, output_dict=True)\n",
    "\n",
    "        # Testing results\n",
    "        y_test_pred = pipeline.predict(X_test)\n",
    "        test_precision = round(precision_score(y_test, y_test_pred, average=\"weighted\") * 100, 1)\n",
    "        test_recall = round(recall_score(y_test, y_test_pred, average=\"weighted\") * 100, 1)\n",
    "        test_f1 = round(f1_score(y_test, y_test_pred, average=\"weighted\") * 100, 1)\n",
    "        test_conf_matrix = confusion_matrix(y_test, y_test_pred)\n",
    "        test_classification_report = classification_report(y_test, y_test_pred, output_dict=True)\n",
    "\n",
    "        results[classifier_name] = {\n",
    "            'training': {\n",
    "                'precision': train_precision,\n",
    "                'recall': train_recall,\n",
    "                'f1-score': train_f1,\n",
    "                'confusion_matrix': train_conf_matrix,\n",
    "                'classification_report': train_classification_report\n",
    "            },\n",
    "            'testing': {\n",
    "                'precision': test_precision,\n",
    "                'recall': test_recall,\n",
    "                'f1-score': test_f1,\n",
    "                'confusion_matrix': test_conf_matrix,\n",
    "                'classification_report': test_classification_report\n",
    "            }\n",
    "        }\n",
    "\n",
    "    return results\n"
   ]
  },
  {
   "cell_type": "code",
   "execution_count": 36,
   "id": "2659ba9c",
   "metadata": {
    "execution": {
     "iopub.execute_input": "2024-05-17T15:22:12.711878Z",
     "iopub.status.busy": "2024-05-17T15:22:12.711393Z",
     "iopub.status.idle": "2024-05-17T15:22:38.217530Z",
     "shell.execute_reply": "2024-05-17T15:22:38.216427Z"
    },
    "papermill": {
     "duration": 25.527893,
     "end_time": "2024-05-17T15:22:38.220043",
     "exception": false,
     "start_time": "2024-05-17T15:22:12.692150",
     "status": "completed"
    },
    "tags": []
   },
   "outputs": [
    {
     "name": "stdout",
     "output_type": "stream",
     "text": [
      "Algorithm: XGBoost\n",
      "      Metric  Training  Testing\n",
      "0  Precision     100.0     99.8\n",
      "1     Recall     100.0     99.8\n",
      "2   F1-score     100.0     99.8\n",
      "\n",
      "\n"
     ]
    },
    {
     "data": {
      "image/png": "[encoded data removed]",
      "text/plain": [
       "<Figure size 1500x500 with 4 Axes>"
      ]
     },
     "metadata": {},
     "output_type": "display_data"
    },
    {
     "name": "stdout",
     "output_type": "stream",
     "text": [
      "Algorithm: Random Forest\n",
      "      Metric  Training  Testing\n",
      "0  Precision     100.0     99.9\n",
      "1     Recall     100.0     99.9\n",
      "2   F1-score     100.0     99.9\n",
      "\n",
      "\n"
     ]
    },
    {
     "data": {
      "image/png": "[encoded data removed]",
      "text/plain": [
       "<Figure size 1500x500 with 4 Axes>"
      ]
     },
     "metadata": {},
     "output_type": "display_data"
    },
    {
     "name": "stdout",
     "output_type": "stream",
     "text": [
      "Algorithm: ExtraTreesClassifier\n",
      "      Metric  Training  Testing\n",
      "0  Precision     100.0     99.9\n",
      "1     Recall     100.0     99.9\n",
      "2   F1-score     100.0     99.9\n",
      "\n",
      "\n"
     ]
    },
    {
     "data": {
      "image/png": "[encoded data removed]",
      "text/plain": [
       "<Figure size 1500x500 with 4 Axes>"
      ]
     },
     "metadata": {},
     "output_type": "display_data"
    }
   ],
   "source": [
    "# Call fit_classification_models() function to generate results\n",
    "results = fit_classification_models(X_train_os, y_train_os)\n",
    "\n",
    "# Plot confusion matrices and display DataFrame for each algorithm\n",
    "for classifier_name, metrics in results.items():\n",
    "    print(f\"Algorithm: {classifier_name}\")\n",
    "\n",
    "    # Display DataFrame\n",
    "    df = pd.DataFrame({\n",
    "        'Metric': ['Precision', 'Recall', 'F1-score'],\n",
    "        'Training': [metrics['training']['precision'], metrics['training']['recall'], metrics['training']['f1-score']],\n",
    "        'Testing': [metrics['testing']['precision'], metrics['testing']['recall'], metrics['testing']['f1-score']]\n",
    "    })\n",
    "    print(df)\n",
    "    print(\"\\n\")\n",
    "\n",
    "    # Plot confusion matrices\n",
    "    fig, axes = plt.subplots(1, 2, figsize=(15, 5))\n",
    "\n",
    "    # Training confusion matrix\n",
    "    sns.heatmap(metrics['training']['confusion_matrix'], annot=True, fmt='d', cmap='Blues', ax=axes[0])\n",
    "    axes[0].set_title('Training Confusion Matrix')\n",
    "    axes[0].set_xlabel('Predicted Label')\n",
    "    axes[0].set_ylabel('True Label')\n",
    "\n",
    "    # Testing confusion matrix\n",
    "    sns.heatmap(metrics['testing']['confusion_matrix'], annot=True, fmt='d', cmap='Blues', ax=axes[1])\n",
    "    axes[1].set_title('Testing Confusion Matrix')\n",
    "    axes[1].set_xlabel('Predicted Label')\n",
    "    axes[1].set_ylabel('True Label')\n",
    "\n",
    "    plt.tight_layout()\n",
    "    plt.show()\n"
   ]
  },
  {
   "cell_type": "code",
   "execution_count": 37,
   "id": "873ff42e",
   "metadata": {
    "execution": {
     "iopub.execute_input": "2024-05-17T15:22:38.262107Z",
     "iopub.status.busy": "2024-05-17T15:22:38.261611Z",
     "iopub.status.idle": "2024-05-17T15:22:38.281821Z",
     "shell.execute_reply": "2024-05-17T15:22:38.280607Z"
    },
    "papermill": {
     "duration": 0.044353,
     "end_time": "2024-05-17T15:22:38.284291",
     "exception": false,
     "start_time": "2024-05-17T15:22:38.239938",
     "status": "completed"
    },
    "tags": []
   },
   "outputs": [
    {
     "data": {
      "text/html": [
       "<div>\n",
       "<style scoped>\n",
       "    .dataframe tbody tr th:only-of-type {\n",
       "        vertical-align: middle;\n",
       "    }\n",
       "\n",
       "    .dataframe tbody tr th {\n",
       "        vertical-align: top;\n",
       "    }\n",
       "\n",
       "    .dataframe thead th {\n",
       "        text-align: right;\n",
       "    }\n",
       "</style>\n",
       "<table border=\"1\" class=\"dataframe\">\n",
       "  <thead>\n",
       "    <tr style=\"text-align: right;\">\n",
       "      <th></th>\n",
       "      <th>Algorithm</th>\n",
       "      <th>Training Precision</th>\n",
       "      <th>Testing Precision</th>\n",
       "      <th>Training Recall</th>\n",
       "      <th>Testing Recall</th>\n",
       "      <th>Training F1-score</th>\n",
       "      <th>Testing F1-score</th>\n",
       "    </tr>\n",
       "  </thead>\n",
       "  <tbody>\n",
       "    <tr>\n",
       "      <th>1</th>\n",
       "      <td>Random Forest</td>\n",
       "      <td>100.0</td>\n",
       "      <td>99.9</td>\n",
       "      <td>100.0</td>\n",
       "      <td>99.9</td>\n",
       "      <td>100.0</td>\n",
       "      <td>99.9</td>\n",
       "    </tr>\n",
       "    <tr>\n",
       "      <th>2</th>\n",
       "      <td>ExtraTreesClassifier</td>\n",
       "      <td>100.0</td>\n",
       "      <td>99.9</td>\n",
       "      <td>100.0</td>\n",
       "      <td>99.9</td>\n",
       "      <td>100.0</td>\n",
       "      <td>99.9</td>\n",
       "    </tr>\n",
       "    <tr>\n",
       "      <th>0</th>\n",
       "      <td>XGBoost</td>\n",
       "      <td>100.0</td>\n",
       "      <td>99.8</td>\n",
       "      <td>100.0</td>\n",
       "      <td>99.8</td>\n",
       "      <td>100.0</td>\n",
       "      <td>99.8</td>\n",
       "    </tr>\n",
       "  </tbody>\n",
       "</table>\n",
       "</div>"
      ],
      "text/plain": [
       "              Algorithm  Training Precision  Testing Precision  \\\n",
       "1         Random Forest               100.0               99.9   \n",
       "2  ExtraTreesClassifier               100.0               99.9   \n",
       "0               XGBoost               100.0               99.8   \n",
       "\n",
       "   Training Recall  Testing Recall  Training F1-score  Testing F1-score  \n",
       "1            100.0            99.9              100.0              99.9  \n",
       "2            100.0            99.9              100.0              99.9  \n",
       "0            100.0            99.8              100.0              99.8  "
      ]
     },
     "execution_count": 37,
     "metadata": {},
     "output_type": "execute_result"
    }
   ],
   "source": [
    "# Initialize a list to store the scores\n",
    "all_scores = []\n",
    "\n",
    "# Iterate over the results\n",
    "for classifier_name, metrics in results.items():\n",
    "    # Append the scores to the list\n",
    "    all_scores.append({\n",
    "        'Algorithm': classifier_name,\n",
    "        'Training Precision': metrics['training']['precision'],\n",
    "        'Testing Precision': metrics['testing']['precision'],\n",
    "        'Training Recall': metrics['training']['recall'],\n",
    "        'Testing Recall': metrics['testing']['recall'],\n",
    "        'Training F1-score': metrics['training']['f1-score'],\n",
    "        'Testing F1-score': metrics['testing']['f1-score']\n",
    "    })\n",
    "\n",
    "# Create a DataFrame from the scores list\n",
    "scores_df = pd.DataFrame(all_scores)\n",
    "\n",
    "# Sort the DataFrame by the 'Testing F1-score' column in descending order\n",
    "scores_sorted = scores_df.sort_values(by='Testing F1-score', ascending=False)\n",
    "\n",
    "# Display the sorted DataFrame\n",
    "scores_sorted"
   ]
  },
  {
   "cell_type": "markdown",
   "id": "f6fac6fb",
   "metadata": {
    "papermill": {
     "duration": 0.019176,
     "end_time": "2024-05-17T15:22:38.323654",
     "exception": false,
     "start_time": "2024-05-17T15:22:38.304478",
     "status": "completed"
    },
    "tags": []
   },
   "source": [
    "## Choosing the XGBoost Model as our Final Model"
   ]
  },
  {
   "cell_type": "code",
   "execution_count": 38,
   "id": "ee232810",
   "metadata": {
    "execution": {
     "iopub.execute_input": "2024-05-17T15:22:38.365378Z",
     "iopub.status.busy": "2024-05-17T15:22:38.364463Z",
     "iopub.status.idle": "2024-05-17T15:22:38.957518Z",
     "shell.execute_reply": "2024-05-17T15:22:38.955927Z"
    },
    "papermill": {
     "duration": 0.617002,
     "end_time": "2024-05-17T15:22:38.960219",
     "exception": false,
     "start_time": "2024-05-17T15:22:38.343217",
     "status": "completed"
    },
    "tags": []
   },
   "outputs": [
    {
     "name": "stdout",
     "output_type": "stream",
     "text": [
      "Training F1-score: 0.9999530332681017\n",
      "Testing F1-score: 0.9984422705464515\n"
     ]
    }
   ],
   "source": [
    "from xgboost import XGBClassifier\n",
    "from sklearn.model_selection import train_test_split\n",
    "from sklearn.metrics import f1_score\n",
    "import joblib\n",
    "\n",
    "# Assuming you have your data in X_train_os, y_train_os\n",
    "# Split the data into training and testing sets\n",
    "X_train, X_test, y_train, y_test = train_test_split(X_train_os, y_train_os, test_size=0.2, random_state=42)\n",
    "\n",
    "# Define and train the XGBoost model\n",
    "xgb_model = XGBClassifier()\n",
    "xgb_model.fit(X_train, y_train)\n",
    "\n",
    "# Make predictions\n",
    "y_pred_train = xgb_model.predict(X_train)\n",
    "y_pred_test = xgb_model.predict(X_test)\n",
    "\n",
    "# Evaluate the model using F1 score\n",
    "train_f1 = f1_score(y_train, y_pred_train)\n",
    "test_f1 = f1_score(y_test, y_pred_test)\n",
    "\n",
    "print(f\"Training F1-score: {train_f1}\")\n",
    "print(f\"Testing F1-score: {test_f1}\")\n"
   ]
  },
  {
   "cell_type": "markdown",
   "id": "cf4cc972",
   "metadata": {
    "papermill": {
     "duration": 0.020101,
     "end_time": "2024-05-17T15:22:39.000290",
     "exception": false,
     "start_time": "2024-05-17T15:22:38.980189",
     "status": "completed"
    },
    "tags": []
   },
   "source": [
    "## Saving the Model in Joblib and Pickle format"
   ]
  },
  {
   "cell_type": "code",
   "execution_count": 39,
   "id": "ccad7473",
   "metadata": {
    "execution": {
     "iopub.execute_input": "2024-05-17T15:22:39.044002Z",
     "iopub.status.busy": "2024-05-17T15:22:39.043538Z",
     "iopub.status.idle": "2024-05-17T15:22:39.058687Z",
     "shell.execute_reply": "2024-05-17T15:22:39.057191Z"
    },
    "papermill": {
     "duration": 0.040401,
     "end_time": "2024-05-17T15:22:39.061675",
     "exception": false,
     "start_time": "2024-05-17T15:22:39.021274",
     "status": "completed"
    },
    "tags": []
   },
   "outputs": [],
   "source": [
    "import pickle\n",
    "import joblib\n",
    "\n",
    "# Save the trained model using joblib\n",
    "joblib.dump(xgb_model, 'aml_model.joblib')\n",
    "\n",
    "\n",
    "# Save the trained model using pickle\n",
    "with open('aml_model.pkl', 'wb') as file:\n",
    "    pickle.dump(xgb_model, file)"
   ]
  },
  {
   "cell_type": "markdown",
   "id": "b9d43f51",
   "metadata": {
    "papermill": {
     "duration": 0.019967,
     "end_time": "2024-05-17T15:22:39.101768",
     "exception": false,
     "start_time": "2024-05-17T15:22:39.081801",
     "status": "completed"
    },
    "tags": []
   },
   "source": [
    "## Load the pickle model"
   ]
  },
  {
   "cell_type": "code",
   "execution_count": 40,
   "id": "19fdbeff",
   "metadata": {
    "execution": {
     "iopub.execute_input": "2024-05-17T15:22:39.145834Z",
     "iopub.status.busy": "2024-05-17T15:22:39.144863Z",
     "iopub.status.idle": "2024-05-17T15:22:39.157765Z",
     "shell.execute_reply": "2024-05-17T15:22:39.156487Z"
    },
    "papermill": {
     "duration": 0.038433,
     "end_time": "2024-05-17T15:22:39.160872",
     "exception": false,
     "start_time": "2024-05-17T15:22:39.122439",
     "status": "completed"
    },
    "tags": []
   },
   "outputs": [],
   "source": [
    "import pickle\n",
    "\n",
    "# Load the trained model using pickle\n",
    "with open('aml_model.pkl', 'rb') as file:\n",
    "    loaded_model_pickle = pickle.load(file)"
   ]
  },
  {
   "cell_type": "markdown",
   "id": "47a7ebdc",
   "metadata": {
    "papermill": {
     "duration": 0.020256,
     "end_time": "2024-05-17T15:22:39.201452",
     "exception": false,
     "start_time": "2024-05-17T15:22:39.181196",
     "status": "completed"
    },
    "tags": []
   },
   "source": [
    "## Make Predictions on the Pickle model"
   ]
  },
  {
   "cell_type": "code",
   "execution_count": 41,
   "id": "2b4763c4",
   "metadata": {
    "execution": {
     "iopub.execute_input": "2024-05-17T15:22:39.243403Z",
     "iopub.status.busy": "2024-05-17T15:22:39.242890Z",
     "iopub.status.idle": "2024-05-17T15:22:39.271342Z",
     "shell.execute_reply": "2024-05-17T15:22:39.270359Z"
    },
    "papermill": {
     "duration": 0.05272,
     "end_time": "2024-05-17T15:22:39.274193",
     "exception": false,
     "start_time": "2024-05-17T15:22:39.221473",
     "status": "completed"
    },
    "tags": []
   },
   "outputs": [],
   "source": [
    "# Make predictions using the loaded model from pickle\n",
    "predictions_pickle = loaded_model_pickle.predict(X_test)"
   ]
  },
  {
   "cell_type": "code",
   "execution_count": 42,
   "id": "f447b99e",
   "metadata": {
    "execution": {
     "iopub.execute_input": "2024-05-17T15:22:39.316957Z",
     "iopub.status.busy": "2024-05-17T15:22:39.315954Z",
     "iopub.status.idle": "2024-05-17T15:22:39.322758Z",
     "shell.execute_reply": "2024-05-17T15:22:39.321655Z"
    },
    "papermill": {
     "duration": 0.030781,
     "end_time": "2024-05-17T15:22:39.325212",
     "exception": false,
     "start_time": "2024-05-17T15:22:39.294431",
     "status": "completed"
    },
    "tags": []
   },
   "outputs": [
    {
     "name": "stdout",
     "output_type": "stream",
     "text": [
      "[0 1 0 1 1 0 0 1 1 0 0 0 0 0 0 0 0 1 1 0 1 0 1 0 0 0 1 1 0 0 1 0 0 0 0 1 1\n",
      " 1 1 1 1 0 0 0 0 1 0 1 1 0]\n"
     ]
    }
   ],
   "source": [
    "print(predictions_pickle[:50])"
   ]
  },
  {
   "cell_type": "markdown",
   "id": "b2638667",
   "metadata": {
    "papermill": {
     "duration": 0.019998,
     "end_time": "2024-05-17T15:22:39.365559",
     "exception": false,
     "start_time": "2024-05-17T15:22:39.345561",
     "status": "completed"
    },
    "tags": []
   },
   "source": [
    "## Load the Joblib model"
   ]
  },
  {
   "cell_type": "code",
   "execution_count": 43,
   "id": "3b9f10d0",
   "metadata": {
    "execution": {
     "iopub.execute_input": "2024-05-17T15:22:39.408705Z",
     "iopub.status.busy": "2024-05-17T15:22:39.407930Z",
     "iopub.status.idle": "2024-05-17T15:22:39.422085Z",
     "shell.execute_reply": "2024-05-17T15:22:39.420839Z"
    },
    "papermill": {
     "duration": 0.039199,
     "end_time": "2024-05-17T15:22:39.424974",
     "exception": false,
     "start_time": "2024-05-17T15:22:39.385775",
     "status": "completed"
    },
    "tags": []
   },
   "outputs": [],
   "source": [
    "import joblib\n",
    "\n",
    "# Load the trained model using joblib\n",
    "loaded_model_joblib = joblib.load('aml_model.joblib')"
   ]
  },
  {
   "cell_type": "markdown",
   "id": "bafe55ec",
   "metadata": {
    "papermill": {
     "duration": 0.020108,
     "end_time": "2024-05-17T15:22:39.466389",
     "exception": false,
     "start_time": "2024-05-17T15:22:39.446281",
     "status": "completed"
    },
    "tags": []
   },
   "source": [
    "## Make predictions on the joblib model"
   ]
  },
  {
   "cell_type": "code",
   "execution_count": 44,
   "id": "2c0b8a11",
   "metadata": {
    "execution": {
     "iopub.execute_input": "2024-05-17T15:22:39.509640Z",
     "iopub.status.busy": "2024-05-17T15:22:39.508733Z",
     "iopub.status.idle": "2024-05-17T15:22:39.535487Z",
     "shell.execute_reply": "2024-05-17T15:22:39.534271Z"
    },
    "papermill": {
     "duration": 0.052383,
     "end_time": "2024-05-17T15:22:39.538948",
     "exception": false,
     "start_time": "2024-05-17T15:22:39.486565",
     "status": "completed"
    },
    "tags": []
   },
   "outputs": [],
   "source": [
    "# Make predictions using the loaded model from joblib\n",
    "predictions_joblib = loaded_model_joblib.predict(X_test)"
   ]
  },
  {
   "cell_type": "code",
   "execution_count": 45,
   "id": "b56fc823",
   "metadata": {
    "execution": {
     "iopub.execute_input": "2024-05-17T15:22:39.581549Z",
     "iopub.status.busy": "2024-05-17T15:22:39.581068Z",
     "iopub.status.idle": "2024-05-17T15:22:39.587660Z",
     "shell.execute_reply": "2024-05-17T15:22:39.586370Z"
    },
    "papermill": {
     "duration": 0.031004,
     "end_time": "2024-05-17T15:22:39.590130",
     "exception": false,
     "start_time": "2024-05-17T15:22:39.559126",
     "status": "completed"
    },
    "tags": []
   },
   "outputs": [
    {
     "name": "stdout",
     "output_type": "stream",
     "text": [
      "[0 1 0 1 1 0 0 1 1 0 0 0 0 0 0 0 0 1 1 0 1 0 1 0 0 0 1 1 0 0 1 0 0 0 0 1 1\n",
      " 1 1 1 1 0 0 0 0 1 0 1 1 0]\n"
     ]
    }
   ],
   "source": [
    "print(predictions_joblib[:50])"
   ]
  }
 ],
 "metadata": {
  "kaggle": {
   "accelerator": "none",
   "dataSources": [
    {
     "datasetId": 2948142,
     "sourceId": 5080714,
     "sourceType": "datasetVersion"
    }
   ],
   "dockerImageVersionId": 30698,
   "isGpuEnabled": false,
   "isInternetEnabled": true,
   "language": "python",
   "sourceType": "notebook"
  },
  "kernelspec": {
   "display_name": ".venv",
   "language": "python",
   "name": "python3"
  },
  "language_info": {
   "codemirror_mode": {
    "name": "ipython",
    "version": 3
   },
   "file_extension": ".py",
   "mimetype": "text/x-python",
   "name": "python",
   "nbconvert_exporter": "python",
   "pygments_lexer": "ipython3",
   "version": "3.12.10"
  },
  "papermill": {
   "default_parameters": {},
   "duration": 59.533658,
   "end_time": "2024-05-17T15:22:40.835955",
   "environment_variables": {},
   "exception": null,
   "input_path": "__notebook__.ipynb",
   "output_path": "__notebook__.ipynb",
   "parameters": {},
   "start_time": "2024-05-17T15:21:41.302297",
   "version": "2.5.0"
  }
 },
 "nbformat": 4,
 "nbformat_minor": 5
}
